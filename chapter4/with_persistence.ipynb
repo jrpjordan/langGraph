{
 "cells": [
  {
   "cell_type": "code",
   "execution_count": 1,
   "id": "5d7c06fc",
   "metadata": {},
   "outputs": [
    {
     "name": "stdout",
     "output_type": "stream",
     "text": [
      "Requirement already satisfied: aiohappyeyeballs==2.6.1 in /Users/joseramonperezjordan/dev/repository/langGraph/.venv/lib/python3.13/site-packages (from -r requirements.txt (line 1)) (2.6.1)\n",
      "Requirement already satisfied: aiohttp==3.12.13 in /Users/joseramonperezjordan/dev/repository/langGraph/.venv/lib/python3.13/site-packages (from -r requirements.txt (line 2)) (3.12.13)\n",
      "Requirement already satisfied: aiosignal==1.3.2 in /Users/joseramonperezjordan/dev/repository/langGraph/.venv/lib/python3.13/site-packages (from -r requirements.txt (line 3)) (1.3.2)\n",
      "Requirement already satisfied: aiosqlite==0.21.0 in /Users/joseramonperezjordan/dev/repository/langGraph/.venv/lib/python3.13/site-packages (from -r requirements.txt (line 4)) (0.21.0)\n",
      "Requirement already satisfied: annotated-types==0.7.0 in /Users/joseramonperezjordan/dev/repository/langGraph/.venv/lib/python3.13/site-packages (from -r requirements.txt (line 5)) (0.7.0)\n",
      "Requirement already satisfied: anyio==4.9.0 in /Users/joseramonperezjordan/dev/repository/langGraph/.venv/lib/python3.13/site-packages (from -r requirements.txt (line 6)) (4.9.0)\n",
      "Requirement already satisfied: appnope==0.1.4 in /Users/joseramonperezjordan/dev/repository/langGraph/.venv/lib/python3.13/site-packages (from -r requirements.txt (line 7)) (0.1.4)\n",
      "Requirement already satisfied: argon2-cffi==25.1.0 in /Users/joseramonperezjordan/dev/repository/langGraph/.venv/lib/python3.13/site-packages (from -r requirements.txt (line 8)) (25.1.0)\n",
      "Requirement already satisfied: argon2-cffi-bindings==21.2.0 in /Users/joseramonperezjordan/dev/repository/langGraph/.venv/lib/python3.13/site-packages (from -r requirements.txt (line 9)) (21.2.0)\n",
      "Requirement already satisfied: arrow==1.3.0 in /Users/joseramonperezjordan/dev/repository/langGraph/.venv/lib/python3.13/site-packages (from -r requirements.txt (line 10)) (1.3.0)\n",
      "Requirement already satisfied: asttokens==3.0.0 in /Users/joseramonperezjordan/dev/repository/langGraph/.venv/lib/python3.13/site-packages (from -r requirements.txt (line 11)) (3.0.0)\n",
      "Requirement already satisfied: async-lru==2.0.5 in /Users/joseramonperezjordan/dev/repository/langGraph/.venv/lib/python3.13/site-packages (from -r requirements.txt (line 12)) (2.0.5)\n",
      "Requirement already satisfied: attrs==25.3.0 in /Users/joseramonperezjordan/dev/repository/langGraph/.venv/lib/python3.13/site-packages (from -r requirements.txt (line 13)) (25.3.0)\n",
      "Requirement already satisfied: babel==2.17.0 in /Users/joseramonperezjordan/dev/repository/langGraph/.venv/lib/python3.13/site-packages (from -r requirements.txt (line 14)) (2.17.0)\n",
      "Requirement already satisfied: beautifulsoup4==4.13.4 in /Users/joseramonperezjordan/dev/repository/langGraph/.venv/lib/python3.13/site-packages (from -r requirements.txt (line 15)) (4.13.4)\n",
      "Requirement already satisfied: bleach==6.2.0 in /Users/joseramonperezjordan/dev/repository/langGraph/.venv/lib/python3.13/site-packages (from -r requirements.txt (line 16)) (6.2.0)\n",
      "Requirement already satisfied: cachetools==5.5.2 in /Users/joseramonperezjordan/dev/repository/langGraph/.venv/lib/python3.13/site-packages (from -r requirements.txt (line 17)) (5.5.2)\n",
      "Requirement already satisfied: certifi==2025.6.15 in /Users/joseramonperezjordan/dev/repository/langGraph/.venv/lib/python3.13/site-packages (from -r requirements.txt (line 18)) (2025.6.15)\n",
      "Requirement already satisfied: cffi==1.17.1 in /Users/joseramonperezjordan/dev/repository/langGraph/.venv/lib/python3.13/site-packages (from -r requirements.txt (line 19)) (1.17.1)\n",
      "Requirement already satisfied: charset-normalizer==3.4.2 in /Users/joseramonperezjordan/dev/repository/langGraph/.venv/lib/python3.13/site-packages (from -r requirements.txt (line 20)) (3.4.2)\n",
      "Requirement already satisfied: comm==0.2.2 in /Users/joseramonperezjordan/dev/repository/langGraph/.venv/lib/python3.13/site-packages (from -r requirements.txt (line 21)) (0.2.2)\n",
      "Requirement already satisfied: debugpy==1.8.14 in /Users/joseramonperezjordan/dev/repository/langGraph/.venv/lib/python3.13/site-packages (from -r requirements.txt (line 22)) (1.8.14)\n",
      "Requirement already satisfied: decorator==5.2.1 in /Users/joseramonperezjordan/dev/repository/langGraph/.venv/lib/python3.13/site-packages (from -r requirements.txt (line 23)) (5.2.1)\n",
      "Requirement already satisfied: defusedxml==0.7.1 in /Users/joseramonperezjordan/dev/repository/langGraph/.venv/lib/python3.13/site-packages (from -r requirements.txt (line 24)) (0.7.1)\n",
      "Requirement already satisfied: distro==1.9.0 in /Users/joseramonperezjordan/dev/repository/langGraph/.venv/lib/python3.13/site-packages (from -r requirements.txt (line 25)) (1.9.0)\n",
      "Requirement already satisfied: dotenv==0.9.9 in /Users/joseramonperezjordan/dev/repository/langGraph/.venv/lib/python3.13/site-packages (from -r requirements.txt (line 26)) (0.9.9)\n",
      "Requirement already satisfied: executing==2.2.0 in /Users/joseramonperezjordan/dev/repository/langGraph/.venv/lib/python3.13/site-packages (from -r requirements.txt (line 27)) (2.2.0)\n",
      "Requirement already satisfied: fastjsonschema==2.21.1 in /Users/joseramonperezjordan/dev/repository/langGraph/.venv/lib/python3.13/site-packages (from -r requirements.txt (line 28)) (2.21.1)\n",
      "Requirement already satisfied: filetype==1.2.0 in /Users/joseramonperezjordan/dev/repository/langGraph/.venv/lib/python3.13/site-packages (from -r requirements.txt (line 29)) (1.2.0)\n",
      "Requirement already satisfied: fqdn==1.5.1 in /Users/joseramonperezjordan/dev/repository/langGraph/.venv/lib/python3.13/site-packages (from -r requirements.txt (line 30)) (1.5.1)\n",
      "Requirement already satisfied: frozenlist==1.7.0 in /Users/joseramonperezjordan/dev/repository/langGraph/.venv/lib/python3.13/site-packages (from -r requirements.txt (line 31)) (1.7.0)\n",
      "Requirement already satisfied: google-ai-generativelanguage==0.6.18 in /Users/joseramonperezjordan/dev/repository/langGraph/.venv/lib/python3.13/site-packages (from -r requirements.txt (line 32)) (0.6.18)\n",
      "Requirement already satisfied: google-api-core==2.25.1 in /Users/joseramonperezjordan/dev/repository/langGraph/.venv/lib/python3.13/site-packages (from -r requirements.txt (line 33)) (2.25.1)\n",
      "Requirement already satisfied: google-auth==2.40.3 in /Users/joseramonperezjordan/dev/repository/langGraph/.venv/lib/python3.13/site-packages (from -r requirements.txt (line 34)) (2.40.3)\n",
      "Requirement already satisfied: googleapis-common-protos==1.70.0 in /Users/joseramonperezjordan/dev/repository/langGraph/.venv/lib/python3.13/site-packages (from -r requirements.txt (line 35)) (1.70.0)\n",
      "Requirement already satisfied: greenlet==3.2.3 in /Users/joseramonperezjordan/dev/repository/langGraph/.venv/lib/python3.13/site-packages (from -r requirements.txt (line 36)) (3.2.3)\n",
      "Requirement already satisfied: grpcio==1.73.1 in /Users/joseramonperezjordan/dev/repository/langGraph/.venv/lib/python3.13/site-packages (from -r requirements.txt (line 37)) (1.73.1)\n",
      "Requirement already satisfied: grpcio-status==1.73.1 in /Users/joseramonperezjordan/dev/repository/langGraph/.venv/lib/python3.13/site-packages (from -r requirements.txt (line 38)) (1.73.1)\n",
      "Requirement already satisfied: h11==0.16.0 in /Users/joseramonperezjordan/dev/repository/langGraph/.venv/lib/python3.13/site-packages (from -r requirements.txt (line 39)) (0.16.0)\n",
      "Requirement already satisfied: httpcore==1.0.9 in /Users/joseramonperezjordan/dev/repository/langGraph/.venv/lib/python3.13/site-packages (from -r requirements.txt (line 40)) (1.0.9)\n",
      "Requirement already satisfied: httpx==0.28.1 in /Users/joseramonperezjordan/dev/repository/langGraph/.venv/lib/python3.13/site-packages (from -r requirements.txt (line 41)) (0.28.1)\n",
      "Requirement already satisfied: idna==3.10 in /Users/joseramonperezjordan/dev/repository/langGraph/.venv/lib/python3.13/site-packages (from -r requirements.txt (line 42)) (3.10)\n",
      "Requirement already satisfied: ipykernel==6.29.5 in /Users/joseramonperezjordan/dev/repository/langGraph/.venv/lib/python3.13/site-packages (from -r requirements.txt (line 43)) (6.29.5)\n",
      "Requirement already satisfied: ipython==9.3.0 in /Users/joseramonperezjordan/dev/repository/langGraph/.venv/lib/python3.13/site-packages (from -r requirements.txt (line 44)) (9.3.0)\n",
      "Requirement already satisfied: ipython_pygments_lexers==1.1.1 in /Users/joseramonperezjordan/dev/repository/langGraph/.venv/lib/python3.13/site-packages (from -r requirements.txt (line 45)) (1.1.1)\n",
      "Requirement already satisfied: isoduration==20.11.0 in /Users/joseramonperezjordan/dev/repository/langGraph/.venv/lib/python3.13/site-packages (from -r requirements.txt (line 46)) (20.11.0)\n",
      "Requirement already satisfied: jedi==0.19.2 in /Users/joseramonperezjordan/dev/repository/langGraph/.venv/lib/python3.13/site-packages (from -r requirements.txt (line 47)) (0.19.2)\n",
      "Requirement already satisfied: Jinja2==3.1.6 in /Users/joseramonperezjordan/dev/repository/langGraph/.venv/lib/python3.13/site-packages (from -r requirements.txt (line 48)) (3.1.6)\n",
      "Requirement already satisfied: jiter==0.10.0 in /Users/joseramonperezjordan/dev/repository/langGraph/.venv/lib/python3.13/site-packages (from -r requirements.txt (line 49)) (0.10.0)\n",
      "Requirement already satisfied: json5==0.12.0 in /Users/joseramonperezjordan/dev/repository/langGraph/.venv/lib/python3.13/site-packages (from -r requirements.txt (line 50)) (0.12.0)\n",
      "Requirement already satisfied: jsonpatch==1.33 in /Users/joseramonperezjordan/dev/repository/langGraph/.venv/lib/python3.13/site-packages (from -r requirements.txt (line 51)) (1.33)\n",
      "Requirement already satisfied: jsonpointer==3.0.0 in /Users/joseramonperezjordan/dev/repository/langGraph/.venv/lib/python3.13/site-packages (from -r requirements.txt (line 52)) (3.0.0)\n",
      "Requirement already satisfied: jsonschema==4.24.0 in /Users/joseramonperezjordan/dev/repository/langGraph/.venv/lib/python3.13/site-packages (from -r requirements.txt (line 53)) (4.24.0)\n",
      "Requirement already satisfied: jsonschema-specifications==2025.4.1 in /Users/joseramonperezjordan/dev/repository/langGraph/.venv/lib/python3.13/site-packages (from -r requirements.txt (line 54)) (2025.4.1)\n",
      "Requirement already satisfied: jupyter-events==0.12.0 in /Users/joseramonperezjordan/dev/repository/langGraph/.venv/lib/python3.13/site-packages (from -r requirements.txt (line 55)) (0.12.0)\n",
      "Requirement already satisfied: jupyter-lsp==2.2.5 in /Users/joseramonperezjordan/dev/repository/langGraph/.venv/lib/python3.13/site-packages (from -r requirements.txt (line 56)) (2.2.5)\n",
      "Requirement already satisfied: jupyter_client==8.6.3 in /Users/joseramonperezjordan/dev/repository/langGraph/.venv/lib/python3.13/site-packages (from -r requirements.txt (line 57)) (8.6.3)\n",
      "Requirement already satisfied: jupyter_core==5.8.1 in /Users/joseramonperezjordan/dev/repository/langGraph/.venv/lib/python3.13/site-packages (from -r requirements.txt (line 58)) (5.8.1)\n",
      "Requirement already satisfied: jupyter_server==2.16.0 in /Users/joseramonperezjordan/dev/repository/langGraph/.venv/lib/python3.13/site-packages (from -r requirements.txt (line 59)) (2.16.0)\n",
      "Requirement already satisfied: jupyter_server_terminals==0.5.3 in /Users/joseramonperezjordan/dev/repository/langGraph/.venv/lib/python3.13/site-packages (from -r requirements.txt (line 60)) (0.5.3)\n",
      "Requirement already satisfied: jupyterlab==4.4.4 in /Users/joseramonperezjordan/dev/repository/langGraph/.venv/lib/python3.13/site-packages (from -r requirements.txt (line 61)) (4.4.4)\n",
      "Requirement already satisfied: jupyterlab_pygments==0.3.0 in /Users/joseramonperezjordan/dev/repository/langGraph/.venv/lib/python3.13/site-packages (from -r requirements.txt (line 62)) (0.3.0)\n",
      "Requirement already satisfied: jupyterlab_server==2.27.3 in /Users/joseramonperezjordan/dev/repository/langGraph/.venv/lib/python3.13/site-packages (from -r requirements.txt (line 63)) (2.27.3)\n",
      "Requirement already satisfied: langchain==0.3.26 in /Users/joseramonperezjordan/dev/repository/langGraph/.venv/lib/python3.13/site-packages (from -r requirements.txt (line 64)) (0.3.26)\n",
      "Requirement already satisfied: langchain-core==0.3.66 in /Users/joseramonperezjordan/dev/repository/langGraph/.venv/lib/python3.13/site-packages (from -r requirements.txt (line 65)) (0.3.66)\n",
      "Requirement already satisfied: langchain-google-genai==2.1.6 in /Users/joseramonperezjordan/dev/repository/langGraph/.venv/lib/python3.13/site-packages (from -r requirements.txt (line 66)) (2.1.6)\n",
      "Requirement already satisfied: langchain-openai==0.3.27 in /Users/joseramonperezjordan/dev/repository/langGraph/.venv/lib/python3.13/site-packages (from -r requirements.txt (line 67)) (0.3.27)\n",
      "Requirement already satisfied: langchain-tavily==0.2.5 in /Users/joseramonperezjordan/dev/repository/langGraph/.venv/lib/python3.13/site-packages (from -r requirements.txt (line 68)) (0.2.5)\n",
      "Requirement already satisfied: langchain-text-splitters==0.3.8 in /Users/joseramonperezjordan/dev/repository/langGraph/.venv/lib/python3.13/site-packages (from -r requirements.txt (line 69)) (0.3.8)\n",
      "Requirement already satisfied: langgraph==0.5.0 in /Users/joseramonperezjordan/dev/repository/langGraph/.venv/lib/python3.13/site-packages (from -r requirements.txt (line 70)) (0.5.0)\n",
      "Requirement already satisfied: langgraph-checkpoint==2.1.0 in /Users/joseramonperezjordan/dev/repository/langGraph/.venv/lib/python3.13/site-packages (from -r requirements.txt (line 71)) (2.1.0)\n",
      "Requirement already satisfied: langgraph-checkpoint-sqlite==2.0.10 in /Users/joseramonperezjordan/dev/repository/langGraph/.venv/lib/python3.13/site-packages (from -r requirements.txt (line 72)) (2.0.10)\n",
      "Requirement already satisfied: langgraph-prebuilt==0.5.1 in /Users/joseramonperezjordan/dev/repository/langGraph/.venv/lib/python3.13/site-packages (from -r requirements.txt (line 73)) (0.5.1)\n",
      "Requirement already satisfied: langgraph-sdk==0.1.72 in /Users/joseramonperezjordan/dev/repository/langGraph/.venv/lib/python3.13/site-packages (from -r requirements.txt (line 74)) (0.1.72)\n",
      "Requirement already satisfied: langsmith==0.4.4 in /Users/joseramonperezjordan/dev/repository/langGraph/.venv/lib/python3.13/site-packages (from -r requirements.txt (line 75)) (0.4.4)\n",
      "Requirement already satisfied: MarkupSafe==3.0.2 in /Users/joseramonperezjordan/dev/repository/langGraph/.venv/lib/python3.13/site-packages (from -r requirements.txt (line 76)) (3.0.2)\n",
      "Requirement already satisfied: matplotlib-inline==0.1.7 in /Users/joseramonperezjordan/dev/repository/langGraph/.venv/lib/python3.13/site-packages (from -r requirements.txt (line 77)) (0.1.7)\n",
      "Requirement already satisfied: mistune==3.1.3 in /Users/joseramonperezjordan/dev/repository/langGraph/.venv/lib/python3.13/site-packages (from -r requirements.txt (line 78)) (3.1.3)\n",
      "Requirement already satisfied: multidict==6.6.2 in /Users/joseramonperezjordan/dev/repository/langGraph/.venv/lib/python3.13/site-packages (from -r requirements.txt (line 79)) (6.6.2)\n",
      "Requirement already satisfied: nbclient==0.10.2 in /Users/joseramonperezjordan/dev/repository/langGraph/.venv/lib/python3.13/site-packages (from -r requirements.txt (line 80)) (0.10.2)\n",
      "Requirement already satisfied: nbconvert==7.16.6 in /Users/joseramonperezjordan/dev/repository/langGraph/.venv/lib/python3.13/site-packages (from -r requirements.txt (line 81)) (7.16.6)\n",
      "Requirement already satisfied: nbformat==5.10.4 in /Users/joseramonperezjordan/dev/repository/langGraph/.venv/lib/python3.13/site-packages (from -r requirements.txt (line 82)) (5.10.4)\n",
      "Requirement already satisfied: nest-asyncio==1.6.0 in /Users/joseramonperezjordan/dev/repository/langGraph/.venv/lib/python3.13/site-packages (from -r requirements.txt (line 83)) (1.6.0)\n",
      "Requirement already satisfied: notebook==7.4.3 in /Users/joseramonperezjordan/dev/repository/langGraph/.venv/lib/python3.13/site-packages (from -r requirements.txt (line 84)) (7.4.3)\n",
      "Requirement already satisfied: notebook_shim==0.2.4 in /Users/joseramonperezjordan/dev/repository/langGraph/.venv/lib/python3.13/site-packages (from -r requirements.txt (line 85)) (0.2.4)\n",
      "Requirement already satisfied: openai==1.93.0 in /Users/joseramonperezjordan/dev/repository/langGraph/.venv/lib/python3.13/site-packages (from -r requirements.txt (line 86)) (1.93.0)\n",
      "Requirement already satisfied: orjson==3.10.18 in /Users/joseramonperezjordan/dev/repository/langGraph/.venv/lib/python3.13/site-packages (from -r requirements.txt (line 87)) (3.10.18)\n",
      "Requirement already satisfied: ormsgpack==1.10.0 in /Users/joseramonperezjordan/dev/repository/langGraph/.venv/lib/python3.13/site-packages (from -r requirements.txt (line 88)) (1.10.0)\n",
      "Requirement already satisfied: overrides==7.7.0 in /Users/joseramonperezjordan/dev/repository/langGraph/.venv/lib/python3.13/site-packages (from -r requirements.txt (line 89)) (7.7.0)\n",
      "Requirement already satisfied: packaging==24.2 in /Users/joseramonperezjordan/dev/repository/langGraph/.venv/lib/python3.13/site-packages (from -r requirements.txt (line 90)) (24.2)\n",
      "Requirement already satisfied: pandocfilters==1.5.1 in /Users/joseramonperezjordan/dev/repository/langGraph/.venv/lib/python3.13/site-packages (from -r requirements.txt (line 91)) (1.5.1)\n",
      "Requirement already satisfied: parso==0.8.4 in /Users/joseramonperezjordan/dev/repository/langGraph/.venv/lib/python3.13/site-packages (from -r requirements.txt (line 92)) (0.8.4)\n",
      "Requirement already satisfied: pexpect==4.9.0 in /Users/joseramonperezjordan/dev/repository/langGraph/.venv/lib/python3.13/site-packages (from -r requirements.txt (line 93)) (4.9.0)\n",
      "Requirement already satisfied: platformdirs==4.3.8 in /Users/joseramonperezjordan/dev/repository/langGraph/.venv/lib/python3.13/site-packages (from -r requirements.txt (line 94)) (4.3.8)\n",
      "Requirement already satisfied: prometheus_client==0.22.1 in /Users/joseramonperezjordan/dev/repository/langGraph/.venv/lib/python3.13/site-packages (from -r requirements.txt (line 95)) (0.22.1)\n",
      "Requirement already satisfied: prompt_toolkit==3.0.51 in /Users/joseramonperezjordan/dev/repository/langGraph/.venv/lib/python3.13/site-packages (from -r requirements.txt (line 96)) (3.0.51)\n",
      "Requirement already satisfied: propcache==0.3.2 in /Users/joseramonperezjordan/dev/repository/langGraph/.venv/lib/python3.13/site-packages (from -r requirements.txt (line 97)) (0.3.2)\n",
      "Requirement already satisfied: proto-plus==1.26.1 in /Users/joseramonperezjordan/dev/repository/langGraph/.venv/lib/python3.13/site-packages (from -r requirements.txt (line 98)) (1.26.1)\n",
      "Requirement already satisfied: protobuf==6.31.1 in /Users/joseramonperezjordan/dev/repository/langGraph/.venv/lib/python3.13/site-packages (from -r requirements.txt (line 99)) (6.31.1)\n",
      "Requirement already satisfied: psutil==7.0.0 in /Users/joseramonperezjordan/dev/repository/langGraph/.venv/lib/python3.13/site-packages (from -r requirements.txt (line 100)) (7.0.0)\n",
      "Requirement already satisfied: ptyprocess==0.7.0 in /Users/joseramonperezjordan/dev/repository/langGraph/.venv/lib/python3.13/site-packages (from -r requirements.txt (line 101)) (0.7.0)\n",
      "Requirement already satisfied: pure_eval==0.2.3 in /Users/joseramonperezjordan/dev/repository/langGraph/.venv/lib/python3.13/site-packages (from -r requirements.txt (line 102)) (0.2.3)\n",
      "Requirement already satisfied: pyasn1==0.6.1 in /Users/joseramonperezjordan/dev/repository/langGraph/.venv/lib/python3.13/site-packages (from -r requirements.txt (line 103)) (0.6.1)\n",
      "Requirement already satisfied: pyasn1_modules==0.4.2 in /Users/joseramonperezjordan/dev/repository/langGraph/.venv/lib/python3.13/site-packages (from -r requirements.txt (line 104)) (0.4.2)\n",
      "Requirement already satisfied: pycparser==2.22 in /Users/joseramonperezjordan/dev/repository/langGraph/.venv/lib/python3.13/site-packages (from -r requirements.txt (line 105)) (2.22)\n",
      "Requirement already satisfied: pydantic==2.11.7 in /Users/joseramonperezjordan/dev/repository/langGraph/.venv/lib/python3.13/site-packages (from -r requirements.txt (line 106)) (2.11.7)\n",
      "Requirement already satisfied: pydantic_core==2.33.2 in /Users/joseramonperezjordan/dev/repository/langGraph/.venv/lib/python3.13/site-packages (from -r requirements.txt (line 107)) (2.33.2)\n",
      "Requirement already satisfied: Pygments==2.19.2 in /Users/joseramonperezjordan/dev/repository/langGraph/.venv/lib/python3.13/site-packages (from -r requirements.txt (line 108)) (2.19.2)\n",
      "Requirement already satisfied: python-dateutil==2.9.0.post0 in /Users/joseramonperezjordan/dev/repository/langGraph/.venv/lib/python3.13/site-packages (from -r requirements.txt (line 109)) (2.9.0.post0)\n",
      "Requirement already satisfied: python-dotenv==1.1.1 in /Users/joseramonperezjordan/dev/repository/langGraph/.venv/lib/python3.13/site-packages (from -r requirements.txt (line 110)) (1.1.1)\n",
      "Requirement already satisfied: python-json-logger==3.3.0 in /Users/joseramonperezjordan/dev/repository/langGraph/.venv/lib/python3.13/site-packages (from -r requirements.txt (line 111)) (3.3.0)\n",
      "Requirement already satisfied: PyYAML==6.0.2 in /Users/joseramonperezjordan/dev/repository/langGraph/.venv/lib/python3.13/site-packages (from -r requirements.txt (line 112)) (6.0.2)\n",
      "Requirement already satisfied: pyzmq==27.0.0 in /Users/joseramonperezjordan/dev/repository/langGraph/.venv/lib/python3.13/site-packages (from -r requirements.txt (line 113)) (27.0.0)\n",
      "Requirement already satisfied: referencing==0.36.2 in /Users/joseramonperezjordan/dev/repository/langGraph/.venv/lib/python3.13/site-packages (from -r requirements.txt (line 114)) (0.36.2)\n",
      "Requirement already satisfied: regex==2024.11.6 in /Users/joseramonperezjordan/dev/repository/langGraph/.venv/lib/python3.13/site-packages (from -r requirements.txt (line 115)) (2024.11.6)\n",
      "Requirement already satisfied: requests==2.32.4 in /Users/joseramonperezjordan/dev/repository/langGraph/.venv/lib/python3.13/site-packages (from -r requirements.txt (line 116)) (2.32.4)\n",
      "Requirement already satisfied: requests-toolbelt==1.0.0 in /Users/joseramonperezjordan/dev/repository/langGraph/.venv/lib/python3.13/site-packages (from -r requirements.txt (line 117)) (1.0.0)\n",
      "Requirement already satisfied: rfc3339-validator==0.1.4 in /Users/joseramonperezjordan/dev/repository/langGraph/.venv/lib/python3.13/site-packages (from -r requirements.txt (line 118)) (0.1.4)\n",
      "Requirement already satisfied: rfc3986-validator==0.1.1 in /Users/joseramonperezjordan/dev/repository/langGraph/.venv/lib/python3.13/site-packages (from -r requirements.txt (line 119)) (0.1.1)\n",
      "Requirement already satisfied: rpds-py==0.25.1 in /Users/joseramonperezjordan/dev/repository/langGraph/.venv/lib/python3.13/site-packages (from -r requirements.txt (line 120)) (0.25.1)\n",
      "Requirement already satisfied: rsa==4.9.1 in /Users/joseramonperezjordan/dev/repository/langGraph/.venv/lib/python3.13/site-packages (from -r requirements.txt (line 121)) (4.9.1)\n",
      "Requirement already satisfied: Send2Trash==1.8.3 in /Users/joseramonperezjordan/dev/repository/langGraph/.venv/lib/python3.13/site-packages (from -r requirements.txt (line 122)) (1.8.3)\n",
      "Requirement already satisfied: setuptools==80.9.0 in /Users/joseramonperezjordan/dev/repository/langGraph/.venv/lib/python3.13/site-packages (from -r requirements.txt (line 123)) (80.9.0)\n",
      "Requirement already satisfied: six==1.17.0 in /Users/joseramonperezjordan/dev/repository/langGraph/.venv/lib/python3.13/site-packages (from -r requirements.txt (line 124)) (1.17.0)\n",
      "Requirement already satisfied: sniffio==1.3.1 in /Users/joseramonperezjordan/dev/repository/langGraph/.venv/lib/python3.13/site-packages (from -r requirements.txt (line 125)) (1.3.1)\n",
      "Requirement already satisfied: soupsieve==2.7 in /Users/joseramonperezjordan/dev/repository/langGraph/.venv/lib/python3.13/site-packages (from -r requirements.txt (line 126)) (2.7)\n",
      "Requirement already satisfied: SQLAlchemy==2.0.41 in /Users/joseramonperezjordan/dev/repository/langGraph/.venv/lib/python3.13/site-packages (from -r requirements.txt (line 127)) (2.0.41)\n",
      "Requirement already satisfied: sqlite-vec==0.1.6 in /Users/joseramonperezjordan/dev/repository/langGraph/.venv/lib/python3.13/site-packages (from -r requirements.txt (line 128)) (0.1.6)\n",
      "Requirement already satisfied: stack-data==0.6.3 in /Users/joseramonperezjordan/dev/repository/langGraph/.venv/lib/python3.13/site-packages (from -r requirements.txt (line 129)) (0.6.3)\n",
      "Requirement already satisfied: tenacity==9.1.2 in /Users/joseramonperezjordan/dev/repository/langGraph/.venv/lib/python3.13/site-packages (from -r requirements.txt (line 130)) (9.1.2)\n",
      "Requirement already satisfied: terminado==0.18.1 in /Users/joseramonperezjordan/dev/repository/langGraph/.venv/lib/python3.13/site-packages (from -r requirements.txt (line 131)) (0.18.1)\n",
      "Requirement already satisfied: tiktoken==0.9.0 in /Users/joseramonperezjordan/dev/repository/langGraph/.venv/lib/python3.13/site-packages (from -r requirements.txt (line 132)) (0.9.0)\n",
      "Requirement already satisfied: tinycss2==1.4.0 in /Users/joseramonperezjordan/dev/repository/langGraph/.venv/lib/python3.13/site-packages (from -r requirements.txt (line 133)) (1.4.0)\n",
      "Requirement already satisfied: tornado==6.5.1 in /Users/joseramonperezjordan/dev/repository/langGraph/.venv/lib/python3.13/site-packages (from -r requirements.txt (line 134)) (6.5.1)\n",
      "Requirement already satisfied: tqdm==4.67.1 in /Users/joseramonperezjordan/dev/repository/langGraph/.venv/lib/python3.13/site-packages (from -r requirements.txt (line 135)) (4.67.1)\n",
      "Requirement already satisfied: traitlets==5.14.3 in /Users/joseramonperezjordan/dev/repository/langGraph/.venv/lib/python3.13/site-packages (from -r requirements.txt (line 136)) (5.14.3)\n",
      "Requirement already satisfied: types-python-dateutil==2.9.0.20250516 in /Users/joseramonperezjordan/dev/repository/langGraph/.venv/lib/python3.13/site-packages (from -r requirements.txt (line 137)) (2.9.0.20250516)\n",
      "Requirement already satisfied: typing-inspection==0.4.1 in /Users/joseramonperezjordan/dev/repository/langGraph/.venv/lib/python3.13/site-packages (from -r requirements.txt (line 138)) (0.4.1)\n",
      "Requirement already satisfied: typing_extensions==4.14.0 in /Users/joseramonperezjordan/dev/repository/langGraph/.venv/lib/python3.13/site-packages (from -r requirements.txt (line 139)) (4.14.0)\n",
      "Requirement already satisfied: uri-template==1.3.0 in /Users/joseramonperezjordan/dev/repository/langGraph/.venv/lib/python3.13/site-packages (from -r requirements.txt (line 140)) (1.3.0)\n",
      "Requirement already satisfied: urllib3==2.5.0 in /Users/joseramonperezjordan/dev/repository/langGraph/.venv/lib/python3.13/site-packages (from -r requirements.txt (line 141)) (2.5.0)\n",
      "Requirement already satisfied: wcwidth==0.2.13 in /Users/joseramonperezjordan/dev/repository/langGraph/.venv/lib/python3.13/site-packages (from -r requirements.txt (line 142)) (0.2.13)\n",
      "Requirement already satisfied: webcolors==24.11.1 in /Users/joseramonperezjordan/dev/repository/langGraph/.venv/lib/python3.13/site-packages (from -r requirements.txt (line 143)) (24.11.1)\n",
      "Requirement already satisfied: webencodings==0.5.1 in /Users/joseramonperezjordan/dev/repository/langGraph/.venv/lib/python3.13/site-packages (from -r requirements.txt (line 144)) (0.5.1)\n",
      "Requirement already satisfied: websocket-client==1.8.0 in /Users/joseramonperezjordan/dev/repository/langGraph/.venv/lib/python3.13/site-packages (from -r requirements.txt (line 145)) (1.8.0)\n",
      "Requirement already satisfied: xxhash==3.5.0 in /Users/joseramonperezjordan/dev/repository/langGraph/.venv/lib/python3.13/site-packages (from -r requirements.txt (line 146)) (3.5.0)\n",
      "Requirement already satisfied: yarl==1.20.1 in /Users/joseramonperezjordan/dev/repository/langGraph/.venv/lib/python3.13/site-packages (from -r requirements.txt (line 147)) (1.20.1)\n",
      "Requirement already satisfied: zstandard==0.23.0 in /Users/joseramonperezjordan/dev/repository/langGraph/.venv/lib/python3.13/site-packages (from -r requirements.txt (line 148)) (0.23.0)\n",
      "Note: you may need to restart the kernel to use updated packages.\n"
     ]
    }
   ],
   "source": [
    "#Install required dependencies\n",
    "%pip install -r requirements.txt"
   ]
  },
  {
   "cell_type": "code",
   "execution_count": 2,
   "id": "9e0c9392",
   "metadata": {},
   "outputs": [],
   "source": [
    "#dotenv module\n",
    "from dotenv import load_dotenv\n",
    "_ = load_dotenv()"
   ]
  },
  {
   "cell_type": "code",
   "execution_count": 3,
   "id": "acaebf59",
   "metadata": {},
   "outputs": [],
   "source": [
    "#Adding typing module for typed python\n",
    "# Documentation for python typing annotation https://docs.python.org/3/library/typing.html\n",
    "from typing import TypedDict, Annotated\n",
    "import operator"
   ]
  },
  {
   "cell_type": "code",
   "execution_count": null,
   "id": "092673b8",
   "metadata": {},
   "outputs": [],
   "source": [
    "#langgraph module and tavily search tool\n",
    "from langgraph.graph import StateGraph, START, END\n",
    "from langchain_core.messages import AnyMessage, SystemMessage, ToolMessage, HumanMessage\n",
    "from langchain_tavily import TavilySearch\n",
    "from langgraph.checkpoint.sqlite.aio import AsyncSqliteSaver\n"
   ]
  },
  {
   "cell_type": "code",
   "execution_count": 5,
   "id": "63501fc7",
   "metadata": {},
   "outputs": [],
   "source": [
    "# Google Gemini used for this example : https://python.langchain.com/docs/integrations/providers/google/\n",
    "from langchain.chat_models import init_chat_model\n",
    "\n",
    "tool = TavilySearch(max_results=2)\n",
    "model = init_chat_model(\"google_genai:gemini-2.5-pro\").bind_tools([tool])"
   ]
  },
  {
   "cell_type": "code",
   "execution_count": 6,
   "id": "6f0fb8ef",
   "metadata": {},
   "outputs": [],
   "source": [
    "class AgentState(TypedDict):\n",
    "    messages: Annotated[list[AnyMessage], operator.add]"
   ]
  },
  {
   "cell_type": "code",
   "execution_count": 7,
   "id": "2910cca4",
   "metadata": {},
   "outputs": [],
   "source": [
    "from langgraph.checkpoint.memory import MemorySaver\n",
    "\n",
    "memory = MemorySaver()"
   ]
  },
  {
   "cell_type": "code",
   "execution_count": 8,
   "id": "d51aa776",
   "metadata": {},
   "outputs": [],
   "source": [
    "class Agent:\n",
    "\n",
    "    def __init__(self, model, tools, checkpointer, system=\"\"):\n",
    "        self.system = system\n",
    "        graph = StateGraph(AgentState)\n",
    "        graph.add_node(\"llm\", self.call_openai)\n",
    "        graph.add_node(\"action\", self.take_action)\n",
    "        graph.add_conditional_edges(\n",
    "            \"llm\",\n",
    "            self.exists_action,\n",
    "            {True: \"action\", False: END}\n",
    "        )\n",
    "        graph.add_edge(\"action\", \"llm\")\n",
    "        graph.set_entry_point(\"llm\")\n",
    "        self.graph = graph.compile(checkpointer = checkpointer)\n",
    "        self.tools = {t.name: t for t in tools}\n",
    "        self.model = model\n",
    "\n",
    "    def exists_action(self, state: AgentState):\n",
    "        result = state['messages'][-1]\n",
    "        return len(result.tool_calls) > 0\n",
    "\n",
    "    def call_openai(self, state: AgentState):\n",
    "        messages = state['messages']\n",
    "        if self.system:\n",
    "            messages = [SystemMessage(content=self.system)] + messages\n",
    "        message = self.model.invoke(messages)\n",
    "        return {'messages': [message]}\n",
    "\n",
    "    def take_action(self, state: AgentState):\n",
    "        tool_calls = state['messages'][-1].tool_calls\n",
    "        results = []\n",
    "        for t in tool_calls:\n",
    "            if not t['name'] in self.tools:      # check for bad tool name from LLM\n",
    "                print(\"\\n ....bad tool name....\")\n",
    "                result = \"bad tool name, retry\"  # instruct LLM to retry if bad\n",
    "            else:\n",
    "                result = self.tools[t['name']].invoke(t['args'])\n",
    "            results.append(ToolMessage(tool_call_id=t['id'], name=t['name'], content=str(result)))\n",
    "        return {'messages': results}\n"
   ]
  },
  {
   "cell_type": "code",
   "execution_count": 9,
   "id": "47957bd9",
   "metadata": {},
   "outputs": [],
   "source": [
    "prompt = \"\"\"You are a smart research assistant. Use the search engine to look up information.\n",
    "You are allowed to make multiple calls (either together or in sequence).\n",
    "Only look up information when you are sure of what you want.\n",
    "If you need to look up some information before asking a follow un question, you are allowed to do that!\"\"\"\n",
    "\n",
    "abot = Agent(model, [tool], system=prompt, checkpointer=memory)"
   ]
  },
  {
   "cell_type": "code",
   "execution_count": 10,
   "id": "3dd05b70",
   "metadata": {},
   "outputs": [],
   "source": [
    "messages = [HumanMessage(content=\"What is the weather in SF?\")]"
   ]
  },
  {
   "cell_type": "code",
   "execution_count": 11,
   "id": "6f3e29a0",
   "metadata": {},
   "outputs": [],
   "source": [
    "thread = {\"configurable\": {\"thread_id\": \"1\"}}"
   ]
  },
  {
   "cell_type": "code",
   "execution_count": 12,
   "id": "255fe45d",
   "metadata": {},
   "outputs": [
    {
     "name": "stdout",
     "output_type": "stream",
     "text": [
      "[AIMessage(content='', additional_kwargs={'function_call': {'name': 'tavily_search', 'arguments': '{\"query\": \"weather in San Francisco\"}'}}, response_metadata={'prompt_feedback': {'block_reason': 0, 'safety_ratings': []}, 'finish_reason': 'STOP', 'model_name': 'gemini-2.5-pro', 'safety_ratings': []}, id='run--29661053-bafb-4f0d-85fa-211c8c903c61-0', tool_calls=[{'name': 'tavily_search', 'args': {'query': 'weather in San Francisco'}, 'id': '75658926-a735-4ffb-be28-bac32bdd8ff7', 'type': 'tool_call'}], usage_metadata={'input_tokens': 666, 'output_tokens': 20, 'total_tokens': 955, 'input_token_details': {'cache_read': 0}, 'output_token_details': {'reasoning': 269}})]\n",
      "[ToolMessage(content='{\\'query\\': \\'weather in San Francisco\\', \\'follow_up_questions\\': None, \\'answer\\': None, \\'images\\': [], \\'results\\': [{\\'title\\': \\'Weather in San Francisco\\', \\'url\\': \\'https://www.weatherapi.com/\\', \\'content\\': \"{\\'location\\': {\\'name\\': \\'San Francisco\\', \\'region\\': \\'California\\', \\'country\\': \\'United States of America\\', \\'lat\\': 37.775, \\'lon\\': -122.4183, \\'tz_id\\': \\'America/Los_Angeles\\', \\'localtime_epoch\\': 1752580206, \\'localtime\\': \\'2025-07-15 04:50\\'}, \\'current\\': {\\'last_updated_epoch\\': 1752579900, \\'last_updated\\': \\'2025-07-15 04:45\\', \\'temp_c\\': 14.4, \\'temp_f\\': 57.9, \\'is_day\\': 0, \\'condition\\': {\\'text\\': \\'Overcast\\', \\'icon\\': \\'//cdn.weatherapi.com/weather/64x64/night/122.png\\', \\'code\\': 1009}, \\'wind_mph\\': 6.5, \\'wind_kph\\': 10.4, \\'wind_degree\\': 249, \\'wind_dir\\': \\'WSW\\', \\'pressure_mb\\': 1013.0, \\'pressure_in\\': 29.91, \\'precip_mm\\': 0.0, \\'precip_in\\': 0.0, \\'humidity\\': 87, \\'cloud\\': 100, \\'feelslike_c\\': 13.8, \\'feelslike_f\\': 56.9, \\'windchill_c\\': 11.2, \\'windchill_f\\': 52.2, \\'heatindex_c\\': 12.5, \\'heatindex_f\\': 54.4, \\'dewpoint_c\\': 11.8, \\'dewpoint_f\\': 53.2, \\'vis_km\\': 16.0, \\'vis_miles\\': 9.0, \\'uv\\': 0.0, \\'gust_mph\\': 9.9, \\'gust_kph\\': 15.9}}\", \\'score\\': 0.8894513, \\'raw_content\\': None}, {\\'url\\': \\'https://world-weather.info/forecast/usa/san_francisco/july-2025/\\', \\'title\\': \\'Weather in San Francisco in July 2025 (California)\\', \\'content\\': \\'*   1 +70° +59° *   2 +72° +61° *   3 +70° +61° *   4 +70° +59° *   5 +70° +59° *   6 +70° +59° *   7 +70° +59° *   8 +70° +59° *   9 +70° +59° *   10 +72° +61° *   11 +72° +61° *   12 +70° +61° *   13 +70° +59° *   14 +70° +61° *   15 +72° +59° *   16 +72° +59° *   17 +70° +61° *   18 +72° +61° *   19 +70° +61° *   20 +72° +61° *   21 +70° +61° *   22 +72° +61° *   23 +72° +61° *   24 +70° +59° *   25 +72° +61° *   26 +72° +61° *   27 +70° +59° *   28 +70° +59° *   29 +70° +59° *   30 +70° +59°\\', \\'score\\': 0.85216236, \\'raw_content\\': None}], \\'response_time\\': 1.57}', name='tavily_search', tool_call_id='75658926-a735-4ffb-be28-bac32bdd8ff7')]\n",
      "[AIMessage(content='The weather in San Francisco is currently 57.9°F (14.4°C) and overcast. The wind is blowing from the WSW at 6.5 mph.', additional_kwargs={}, response_metadata={'prompt_feedback': {'block_reason': 0, 'safety_ratings': []}, 'finish_reason': 'STOP', 'model_name': 'gemini-2.5-pro', 'safety_ratings': []}, id='run--cc1b7561-34fc-4755-a90d-3d1194558272-0', usage_metadata={'input_tokens': 1766, 'output_tokens': 40, 'total_tokens': 2165, 'input_token_details': {'cache_read': 0}, 'output_token_details': {'reasoning': 359}})]\n"
     ]
    }
   ],
   "source": [
    "for event in abot.graph.stream({\"messages\": messages}, thread):\n",
    "    for v in event.values():\n",
    "        print(v['messages'])"
   ]
  },
  {
   "cell_type": "code",
   "execution_count": null,
   "id": "40c7152d",
   "metadata": {},
   "outputs": [
    {
     "name": "stdout",
     "output_type": "stream",
     "text": [
      "{'messages': [AIMessage(content='', additional_kwargs={'function_call': {'name': 'tavily_search', 'arguments': '{\"query\": \"weather in Los Angeles\"}'}}, response_metadata={'prompt_feedback': {'block_reason': 0, 'safety_ratings': []}, 'finish_reason': 'STOP', 'model_name': 'gemini-2.5-pro', 'safety_ratings': []}, id='run--16327e7c-6dd4-480d-aa25-3fd458c99891-0', tool_calls=[{'name': 'tavily_search', 'args': {'query': 'weather in Los Angeles'}, 'id': '4f0b0665-1e57-4ea3-8439-c80b3f05a697', 'type': 'tool_call'}], usage_metadata={'input_tokens': 1813, 'output_tokens': 20, 'total_tokens': 2123, 'input_token_details': {'cache_read': 0}, 'output_token_details': {'reasoning': 290}})]}\n"
     ]
    }
   ],
   "source": [
    "# It knows we are talking about weather as it is persisted and we are passing the same thread_id\n",
    "messages = [HumanMessage(content=\"What about in la?\")]\n",
    "thread = {\"configurable\": {\"thread_id\": \"1\"}}\n",
    "for event in abot.graph.stream({\"messages\": messages}, thread):\n",
    "    for v in event.values():\n",
    "        print(v)"
   ]
  },
  {
   "cell_type": "code",
   "execution_count": null,
   "id": "52c054e7",
   "metadata": {},
   "outputs": [],
   "source": [
    "# Again we continue asking about which one is warmer. The thread_id is kind of a conversation id\n",
    "messages = [HumanMessage(content=\"Which one is warmer?\")]\n",
    "thread = {\"configurable\": {\"thread_id\": \"1\"}}\n",
    "for event in abot.graph.stream({\"messages\": messages}, thread):\n",
    "    for v in event.values():\n",
    "        print(v)"
   ]
  },
  {
   "cell_type": "code",
   "execution_count": null,
   "id": "66a4b090",
   "metadata": {},
   "outputs": [],
   "source": [
    "# If we change the thread_id to 2 the answer is confused as there is no conversation context for the model\n",
    "messages = [HumanMessage(content=\"Which one is warmer?\")]\n",
    "thread = {\"configurable\": {\"thread_id\": \"2\"}}\n",
    "for event in abot.graph.stream({\"messages\": messages}, thread):\n",
    "    for v in event.values():\n",
    "        print(v)"
   ]
  },
  {
   "cell_type": "code",
   "execution_count": null,
   "id": "cb497132",
   "metadata": {},
   "outputs": [],
   "source": [
    "from langgraph.checkpoint.sqlite.aio import AsyncSqliteSaver\n",
    "\n",
    "abot = Agent(model, [tool], system=prompt, checkpointer=memory)"
   ]
  },
  {
   "cell_type": "code",
   "execution_count": null,
   "id": "4e147d99",
   "metadata": {},
   "outputs": [],
   "source": [
    "messages = [HumanMessage(content=\"What is the weather in SF?\")]\n",
    "thread = {\"configurable\": {\"thread_id\": \"4\"}}\n",
    "\n",
    "# Streaming the content\n",
    "async with AsyncSqliteSaver.from_conn_string(\":memory:\") as memory:\n",
    "    abot = Agent(model, [tool], system=prompt, checkpointer=memory)\n",
    "    async for event in abot.graph.astream_events({\"messages\": messages}, thread, version=\"v1\"):\n",
    "        if event[\"event\"] == \"on_chat_model_stream\":\n",
    "            content = event[\"data\"][\"chunk\"].content\n",
    "            if content:\n",
    "                print(content, end=\"|\")"
   ]
  }
 ],
 "metadata": {
  "kernelspec": {
   "display_name": ".venv",
   "language": "python",
   "name": "python3"
  },
  "language_info": {
   "codemirror_mode": {
    "name": "ipython",
    "version": 3
   },
   "file_extension": ".py",
   "mimetype": "text/x-python",
   "name": "python",
   "nbconvert_exporter": "python",
   "pygments_lexer": "ipython3",
   "version": "3.13.5"
  }
 },
 "nbformat": 4,
 "nbformat_minor": 5
}
