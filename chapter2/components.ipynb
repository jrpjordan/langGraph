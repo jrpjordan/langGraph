{
 "cells": [
  {
   "cell_type": "code",
   "execution_count": 9,
   "id": "e905b603",
   "metadata": {},
   "outputs": [
    {
     "name": "stdout",
     "output_type": "stream",
     "text": [
      "Requirement already satisfied: aiohappyeyeballs==2.6.1 in /Users/joseramon.perez/dev/personal-repo/langGraph/.venv/lib/python3.12/site-packages (from -r requirements.txt (line 1)) (2.6.1)\n",
      "Requirement already satisfied: aiohttp==3.12.13 in /Users/joseramon.perez/dev/personal-repo/langGraph/.venv/lib/python3.12/site-packages (from -r requirements.txt (line 2)) (3.12.13)\n",
      "Requirement already satisfied: aiosignal==1.3.2 in /Users/joseramon.perez/dev/personal-repo/langGraph/.venv/lib/python3.12/site-packages (from -r requirements.txt (line 3)) (1.3.2)\n",
      "Requirement already satisfied: annotated-types==0.7.0 in /Users/joseramon.perez/dev/personal-repo/langGraph/.venv/lib/python3.12/site-packages (from -r requirements.txt (line 4)) (0.7.0)\n",
      "Requirement already satisfied: anyio==4.9.0 in /Users/joseramon.perez/dev/personal-repo/langGraph/.venv/lib/python3.12/site-packages (from -r requirements.txt (line 5)) (4.9.0)\n",
      "Requirement already satisfied: appnope==0.1.4 in /Users/joseramon.perez/dev/personal-repo/langGraph/.venv/lib/python3.12/site-packages (from -r requirements.txt (line 6)) (0.1.4)\n",
      "Requirement already satisfied: argon2-cffi==25.1.0 in /Users/joseramon.perez/dev/personal-repo/langGraph/.venv/lib/python3.12/site-packages (from -r requirements.txt (line 7)) (25.1.0)\n",
      "Requirement already satisfied: argon2-cffi-bindings==21.2.0 in /Users/joseramon.perez/dev/personal-repo/langGraph/.venv/lib/python3.12/site-packages (from -r requirements.txt (line 8)) (21.2.0)\n",
      "Requirement already satisfied: arrow==1.3.0 in /Users/joseramon.perez/dev/personal-repo/langGraph/.venv/lib/python3.12/site-packages (from -r requirements.txt (line 9)) (1.3.0)\n",
      "Requirement already satisfied: asttokens==3.0.0 in /Users/joseramon.perez/dev/personal-repo/langGraph/.venv/lib/python3.12/site-packages (from -r requirements.txt (line 10)) (3.0.0)\n",
      "Requirement already satisfied: async-lru==2.0.5 in /Users/joseramon.perez/dev/personal-repo/langGraph/.venv/lib/python3.12/site-packages (from -r requirements.txt (line 11)) (2.0.5)\n",
      "Requirement already satisfied: attrs==25.3.0 in /Users/joseramon.perez/dev/personal-repo/langGraph/.venv/lib/python3.12/site-packages (from -r requirements.txt (line 12)) (25.3.0)\n",
      "Requirement already satisfied: babel==2.17.0 in /Users/joseramon.perez/dev/personal-repo/langGraph/.venv/lib/python3.12/site-packages (from -r requirements.txt (line 13)) (2.17.0)\n",
      "Requirement already satisfied: beautifulsoup4==4.13.4 in /Users/joseramon.perez/dev/personal-repo/langGraph/.venv/lib/python3.12/site-packages (from -r requirements.txt (line 14)) (4.13.4)\n",
      "Requirement already satisfied: bleach==6.2.0 in /Users/joseramon.perez/dev/personal-repo/langGraph/.venv/lib/python3.12/site-packages (from -r requirements.txt (line 15)) (6.2.0)\n",
      "Requirement already satisfied: certifi==2025.6.15 in /Users/joseramon.perez/dev/personal-repo/langGraph/.venv/lib/python3.12/site-packages (from -r requirements.txt (line 16)) (2025.6.15)\n",
      "Requirement already satisfied: cffi==1.17.1 in /Users/joseramon.perez/dev/personal-repo/langGraph/.venv/lib/python3.12/site-packages (from -r requirements.txt (line 17)) (1.17.1)\n",
      "Requirement already satisfied: charset-normalizer==3.4.2 in /Users/joseramon.perez/dev/personal-repo/langGraph/.venv/lib/python3.12/site-packages (from -r requirements.txt (line 18)) (3.4.2)\n",
      "Requirement already satisfied: comm==0.2.2 in /Users/joseramon.perez/dev/personal-repo/langGraph/.venv/lib/python3.12/site-packages (from -r requirements.txt (line 19)) (0.2.2)\n",
      "Requirement already satisfied: debugpy==1.8.14 in /Users/joseramon.perez/dev/personal-repo/langGraph/.venv/lib/python3.12/site-packages (from -r requirements.txt (line 20)) (1.8.14)\n",
      "Requirement already satisfied: decorator==5.2.1 in /Users/joseramon.perez/dev/personal-repo/langGraph/.venv/lib/python3.12/site-packages (from -r requirements.txt (line 21)) (5.2.1)\n",
      "Requirement already satisfied: defusedxml==0.7.1 in /Users/joseramon.perez/dev/personal-repo/langGraph/.venv/lib/python3.12/site-packages (from -r requirements.txt (line 22)) (0.7.1)\n",
      "Requirement already satisfied: dotenv==0.9.9 in /Users/joseramon.perez/dev/personal-repo/langGraph/.venv/lib/python3.12/site-packages (from -r requirements.txt (line 23)) (0.9.9)\n",
      "Requirement already satisfied: executing==2.2.0 in /Users/joseramon.perez/dev/personal-repo/langGraph/.venv/lib/python3.12/site-packages (from -r requirements.txt (line 24)) (2.2.0)\n",
      "Requirement already satisfied: fastjsonschema==2.21.1 in /Users/joseramon.perez/dev/personal-repo/langGraph/.venv/lib/python3.12/site-packages (from -r requirements.txt (line 25)) (2.21.1)\n",
      "Requirement already satisfied: fqdn==1.5.1 in /Users/joseramon.perez/dev/personal-repo/langGraph/.venv/lib/python3.12/site-packages (from -r requirements.txt (line 26)) (1.5.1)\n",
      "Requirement already satisfied: frozenlist==1.7.0 in /Users/joseramon.perez/dev/personal-repo/langGraph/.venv/lib/python3.12/site-packages (from -r requirements.txt (line 27)) (1.7.0)\n",
      "Requirement already satisfied: h11==0.16.0 in /Users/joseramon.perez/dev/personal-repo/langGraph/.venv/lib/python3.12/site-packages (from -r requirements.txt (line 28)) (0.16.0)\n",
      "Requirement already satisfied: httpcore==1.0.9 in /Users/joseramon.perez/dev/personal-repo/langGraph/.venv/lib/python3.12/site-packages (from -r requirements.txt (line 29)) (1.0.9)\n",
      "Requirement already satisfied: httpx==0.28.1 in /Users/joseramon.perez/dev/personal-repo/langGraph/.venv/lib/python3.12/site-packages (from -r requirements.txt (line 30)) (0.28.1)\n",
      "Requirement already satisfied: idna==3.10 in /Users/joseramon.perez/dev/personal-repo/langGraph/.venv/lib/python3.12/site-packages (from -r requirements.txt (line 31)) (3.10)\n",
      "Requirement already satisfied: ipykernel==6.29.5 in /Users/joseramon.perez/dev/personal-repo/langGraph/.venv/lib/python3.12/site-packages (from -r requirements.txt (line 32)) (6.29.5)\n",
      "Requirement already satisfied: ipython==9.3.0 in /Users/joseramon.perez/dev/personal-repo/langGraph/.venv/lib/python3.12/site-packages (from -r requirements.txt (line 33)) (9.3.0)\n",
      "Requirement already satisfied: ipython_pygments_lexers==1.1.1 in /Users/joseramon.perez/dev/personal-repo/langGraph/.venv/lib/python3.12/site-packages (from -r requirements.txt (line 34)) (1.1.1)\n",
      "Requirement already satisfied: isoduration==20.11.0 in /Users/joseramon.perez/dev/personal-repo/langGraph/.venv/lib/python3.12/site-packages (from -r requirements.txt (line 35)) (20.11.0)\n",
      "Requirement already satisfied: jedi==0.19.2 in /Users/joseramon.perez/dev/personal-repo/langGraph/.venv/lib/python3.12/site-packages (from -r requirements.txt (line 36)) (0.19.2)\n",
      "Requirement already satisfied: Jinja2==3.1.6 in /Users/joseramon.perez/dev/personal-repo/langGraph/.venv/lib/python3.12/site-packages (from -r requirements.txt (line 37)) (3.1.6)\n",
      "Requirement already satisfied: json5==0.12.0 in /Users/joseramon.perez/dev/personal-repo/langGraph/.venv/lib/python3.12/site-packages (from -r requirements.txt (line 38)) (0.12.0)\n",
      "Requirement already satisfied: jsonpatch==1.33 in /Users/joseramon.perez/dev/personal-repo/langGraph/.venv/lib/python3.12/site-packages (from -r requirements.txt (line 39)) (1.33)\n",
      "Requirement already satisfied: jsonpointer==3.0.0 in /Users/joseramon.perez/dev/personal-repo/langGraph/.venv/lib/python3.12/site-packages (from -r requirements.txt (line 40)) (3.0.0)\n",
      "Requirement already satisfied: jsonschema==4.24.0 in /Users/joseramon.perez/dev/personal-repo/langGraph/.venv/lib/python3.12/site-packages (from -r requirements.txt (line 41)) (4.24.0)\n",
      "Requirement already satisfied: jsonschema-specifications==2025.4.1 in /Users/joseramon.perez/dev/personal-repo/langGraph/.venv/lib/python3.12/site-packages (from -r requirements.txt (line 42)) (2025.4.1)\n",
      "Requirement already satisfied: jupyter-events==0.12.0 in /Users/joseramon.perez/dev/personal-repo/langGraph/.venv/lib/python3.12/site-packages (from -r requirements.txt (line 43)) (0.12.0)\n",
      "Requirement already satisfied: jupyter-lsp==2.2.5 in /Users/joseramon.perez/dev/personal-repo/langGraph/.venv/lib/python3.12/site-packages (from -r requirements.txt (line 44)) (2.2.5)\n",
      "Requirement already satisfied: jupyter_client==8.6.3 in /Users/joseramon.perez/dev/personal-repo/langGraph/.venv/lib/python3.12/site-packages (from -r requirements.txt (line 45)) (8.6.3)\n",
      "Requirement already satisfied: jupyter_core==5.8.1 in /Users/joseramon.perez/dev/personal-repo/langGraph/.venv/lib/python3.12/site-packages (from -r requirements.txt (line 46)) (5.8.1)\n",
      "Requirement already satisfied: jupyter_server==2.16.0 in /Users/joseramon.perez/dev/personal-repo/langGraph/.venv/lib/python3.12/site-packages (from -r requirements.txt (line 47)) (2.16.0)\n",
      "Requirement already satisfied: jupyter_server_terminals==0.5.3 in /Users/joseramon.perez/dev/personal-repo/langGraph/.venv/lib/python3.12/site-packages (from -r requirements.txt (line 48)) (0.5.3)\n",
      "Requirement already satisfied: jupyterlab==4.4.4 in /Users/joseramon.perez/dev/personal-repo/langGraph/.venv/lib/python3.12/site-packages (from -r requirements.txt (line 49)) (4.4.4)\n",
      "Requirement already satisfied: jupyterlab_pygments==0.3.0 in /Users/joseramon.perez/dev/personal-repo/langGraph/.venv/lib/python3.12/site-packages (from -r requirements.txt (line 50)) (0.3.0)\n",
      "Requirement already satisfied: jupyterlab_server==2.27.3 in /Users/joseramon.perez/dev/personal-repo/langGraph/.venv/lib/python3.12/site-packages (from -r requirements.txt (line 51)) (2.27.3)\n",
      "Requirement already satisfied: langchain==0.3.26 in /Users/joseramon.perez/dev/personal-repo/langGraph/.venv/lib/python3.12/site-packages (from -r requirements.txt (line 52)) (0.3.26)\n",
      "Requirement already satisfied: langchain-core==0.3.66 in /Users/joseramon.perez/dev/personal-repo/langGraph/.venv/lib/python3.12/site-packages (from -r requirements.txt (line 53)) (0.3.66)\n",
      "Requirement already satisfied: langchain-tavily==0.2.5 in /Users/joseramon.perez/dev/personal-repo/langGraph/.venv/lib/python3.12/site-packages (from -r requirements.txt (line 54)) (0.2.5)\n",
      "Requirement already satisfied: langchain-text-splitters==0.3.8 in /Users/joseramon.perez/dev/personal-repo/langGraph/.venv/lib/python3.12/site-packages (from -r requirements.txt (line 55)) (0.3.8)\n",
      "Requirement already satisfied: langgraph==0.5.0 in /Users/joseramon.perez/dev/personal-repo/langGraph/.venv/lib/python3.12/site-packages (from -r requirements.txt (line 56)) (0.5.0)\n",
      "Requirement already satisfied: langgraph-checkpoint==2.1.0 in /Users/joseramon.perez/dev/personal-repo/langGraph/.venv/lib/python3.12/site-packages (from -r requirements.txt (line 57)) (2.1.0)\n",
      "Requirement already satisfied: langgraph-prebuilt==0.5.1 in /Users/joseramon.perez/dev/personal-repo/langGraph/.venv/lib/python3.12/site-packages (from -r requirements.txt (line 58)) (0.5.1)\n",
      "Requirement already satisfied: langgraph-sdk==0.1.72 in /Users/joseramon.perez/dev/personal-repo/langGraph/.venv/lib/python3.12/site-packages (from -r requirements.txt (line 59)) (0.1.72)\n",
      "Requirement already satisfied: langsmith==0.4.4 in /Users/joseramon.perez/dev/personal-repo/langGraph/.venv/lib/python3.12/site-packages (from -r requirements.txt (line 60)) (0.4.4)\n",
      "Requirement already satisfied: MarkupSafe==3.0.2 in /Users/joseramon.perez/dev/personal-repo/langGraph/.venv/lib/python3.12/site-packages (from -r requirements.txt (line 61)) (3.0.2)\n",
      "Requirement already satisfied: matplotlib-inline==0.1.7 in /Users/joseramon.perez/dev/personal-repo/langGraph/.venv/lib/python3.12/site-packages (from -r requirements.txt (line 62)) (0.1.7)\n",
      "Requirement already satisfied: mistune==3.1.3 in /Users/joseramon.perez/dev/personal-repo/langGraph/.venv/lib/python3.12/site-packages (from -r requirements.txt (line 63)) (3.1.3)\n",
      "Requirement already satisfied: multidict==6.6.2 in /Users/joseramon.perez/dev/personal-repo/langGraph/.venv/lib/python3.12/site-packages (from -r requirements.txt (line 64)) (6.6.2)\n",
      "Requirement already satisfied: nbclient==0.10.2 in /Users/joseramon.perez/dev/personal-repo/langGraph/.venv/lib/python3.12/site-packages (from -r requirements.txt (line 65)) (0.10.2)\n",
      "Requirement already satisfied: nbconvert==7.16.6 in /Users/joseramon.perez/dev/personal-repo/langGraph/.venv/lib/python3.12/site-packages (from -r requirements.txt (line 66)) (7.16.6)\n",
      "Requirement already satisfied: nbformat==5.10.4 in /Users/joseramon.perez/dev/personal-repo/langGraph/.venv/lib/python3.12/site-packages (from -r requirements.txt (line 67)) (5.10.4)\n",
      "Requirement already satisfied: nest-asyncio==1.6.0 in /Users/joseramon.perez/dev/personal-repo/langGraph/.venv/lib/python3.12/site-packages (from -r requirements.txt (line 68)) (1.6.0)\n",
      "Requirement already satisfied: notebook==7.4.3 in /Users/joseramon.perez/dev/personal-repo/langGraph/.venv/lib/python3.12/site-packages (from -r requirements.txt (line 69)) (7.4.3)\n",
      "Requirement already satisfied: notebook_shim==0.2.4 in /Users/joseramon.perez/dev/personal-repo/langGraph/.venv/lib/python3.12/site-packages (from -r requirements.txt (line 70)) (0.2.4)\n",
      "Requirement already satisfied: orjson==3.10.18 in /Users/joseramon.perez/dev/personal-repo/langGraph/.venv/lib/python3.12/site-packages (from -r requirements.txt (line 71)) (3.10.18)\n",
      "Requirement already satisfied: ormsgpack==1.10.0 in /Users/joseramon.perez/dev/personal-repo/langGraph/.venv/lib/python3.12/site-packages (from -r requirements.txt (line 72)) (1.10.0)\n",
      "Requirement already satisfied: overrides==7.7.0 in /Users/joseramon.perez/dev/personal-repo/langGraph/.venv/lib/python3.12/site-packages (from -r requirements.txt (line 73)) (7.7.0)\n",
      "Requirement already satisfied: packaging==24.2 in /Users/joseramon.perez/dev/personal-repo/langGraph/.venv/lib/python3.12/site-packages (from -r requirements.txt (line 74)) (24.2)\n",
      "Requirement already satisfied: pandocfilters==1.5.1 in /Users/joseramon.perez/dev/personal-repo/langGraph/.venv/lib/python3.12/site-packages (from -r requirements.txt (line 75)) (1.5.1)\n",
      "Requirement already satisfied: parso==0.8.4 in /Users/joseramon.perez/dev/personal-repo/langGraph/.venv/lib/python3.12/site-packages (from -r requirements.txt (line 76)) (0.8.4)\n",
      "Requirement already satisfied: pexpect==4.9.0 in /Users/joseramon.perez/dev/personal-repo/langGraph/.venv/lib/python3.12/site-packages (from -r requirements.txt (line 77)) (4.9.0)\n",
      "Requirement already satisfied: platformdirs==4.3.8 in /Users/joseramon.perez/dev/personal-repo/langGraph/.venv/lib/python3.12/site-packages (from -r requirements.txt (line 78)) (4.3.8)\n",
      "Requirement already satisfied: prometheus_client==0.22.1 in /Users/joseramon.perez/dev/personal-repo/langGraph/.venv/lib/python3.12/site-packages (from -r requirements.txt (line 79)) (0.22.1)\n",
      "Requirement already satisfied: prompt_toolkit==3.0.51 in /Users/joseramon.perez/dev/personal-repo/langGraph/.venv/lib/python3.12/site-packages (from -r requirements.txt (line 80)) (3.0.51)\n",
      "Requirement already satisfied: propcache==0.3.2 in /Users/joseramon.perez/dev/personal-repo/langGraph/.venv/lib/python3.12/site-packages (from -r requirements.txt (line 81)) (0.3.2)\n",
      "Requirement already satisfied: psutil==7.0.0 in /Users/joseramon.perez/dev/personal-repo/langGraph/.venv/lib/python3.12/site-packages (from -r requirements.txt (line 82)) (7.0.0)\n",
      "Requirement already satisfied: ptyprocess==0.7.0 in /Users/joseramon.perez/dev/personal-repo/langGraph/.venv/lib/python3.12/site-packages (from -r requirements.txt (line 83)) (0.7.0)\n",
      "Requirement already satisfied: pure_eval==0.2.3 in /Users/joseramon.perez/dev/personal-repo/langGraph/.venv/lib/python3.12/site-packages (from -r requirements.txt (line 84)) (0.2.3)\n",
      "Requirement already satisfied: pycparser==2.22 in /Users/joseramon.perez/dev/personal-repo/langGraph/.venv/lib/python3.12/site-packages (from -r requirements.txt (line 85)) (2.22)\n",
      "Requirement already satisfied: pydantic==2.11.7 in /Users/joseramon.perez/dev/personal-repo/langGraph/.venv/lib/python3.12/site-packages (from -r requirements.txt (line 86)) (2.11.7)\n",
      "Requirement already satisfied: pydantic_core==2.33.2 in /Users/joseramon.perez/dev/personal-repo/langGraph/.venv/lib/python3.12/site-packages (from -r requirements.txt (line 87)) (2.33.2)\n",
      "Requirement already satisfied: Pygments==2.19.2 in /Users/joseramon.perez/dev/personal-repo/langGraph/.venv/lib/python3.12/site-packages (from -r requirements.txt (line 88)) (2.19.2)\n",
      "Requirement already satisfied: python-dateutil==2.9.0.post0 in /Users/joseramon.perez/dev/personal-repo/langGraph/.venv/lib/python3.12/site-packages (from -r requirements.txt (line 89)) (2.9.0.post0)\n",
      "Requirement already satisfied: python-dotenv==1.1.1 in /Users/joseramon.perez/dev/personal-repo/langGraph/.venv/lib/python3.12/site-packages (from -r requirements.txt (line 90)) (1.1.1)\n",
      "Requirement already satisfied: python-json-logger==3.3.0 in /Users/joseramon.perez/dev/personal-repo/langGraph/.venv/lib/python3.12/site-packages (from -r requirements.txt (line 91)) (3.3.0)\n",
      "Requirement already satisfied: PyYAML==6.0.2 in /Users/joseramon.perez/dev/personal-repo/langGraph/.venv/lib/python3.12/site-packages (from -r requirements.txt (line 92)) (6.0.2)\n",
      "Requirement already satisfied: pyzmq==27.0.0 in /Users/joseramon.perez/dev/personal-repo/langGraph/.venv/lib/python3.12/site-packages (from -r requirements.txt (line 93)) (27.0.0)\n",
      "Requirement already satisfied: referencing==0.36.2 in /Users/joseramon.perez/dev/personal-repo/langGraph/.venv/lib/python3.12/site-packages (from -r requirements.txt (line 94)) (0.36.2)\n",
      "Requirement already satisfied: requests==2.32.4 in /Users/joseramon.perez/dev/personal-repo/langGraph/.venv/lib/python3.12/site-packages (from -r requirements.txt (line 95)) (2.32.4)\n",
      "Requirement already satisfied: requests-toolbelt==1.0.0 in /Users/joseramon.perez/dev/personal-repo/langGraph/.venv/lib/python3.12/site-packages (from -r requirements.txt (line 96)) (1.0.0)\n",
      "Requirement already satisfied: rfc3339-validator==0.1.4 in /Users/joseramon.perez/dev/personal-repo/langGraph/.venv/lib/python3.12/site-packages (from -r requirements.txt (line 97)) (0.1.4)\n",
      "Requirement already satisfied: rfc3986-validator==0.1.1 in /Users/joseramon.perez/dev/personal-repo/langGraph/.venv/lib/python3.12/site-packages (from -r requirements.txt (line 98)) (0.1.1)\n",
      "Requirement already satisfied: rpds-py==0.25.1 in /Users/joseramon.perez/dev/personal-repo/langGraph/.venv/lib/python3.12/site-packages (from -r requirements.txt (line 99)) (0.25.1)\n",
      "Requirement already satisfied: Send2Trash==1.8.3 in /Users/joseramon.perez/dev/personal-repo/langGraph/.venv/lib/python3.12/site-packages (from -r requirements.txt (line 100)) (1.8.3)\n",
      "Requirement already satisfied: setuptools==80.9.0 in /Users/joseramon.perez/dev/personal-repo/langGraph/.venv/lib/python3.12/site-packages (from -r requirements.txt (line 101)) (80.9.0)\n",
      "Requirement already satisfied: six==1.17.0 in /Users/joseramon.perez/dev/personal-repo/langGraph/.venv/lib/python3.12/site-packages (from -r requirements.txt (line 102)) (1.17.0)\n",
      "Requirement already satisfied: sniffio==1.3.1 in /Users/joseramon.perez/dev/personal-repo/langGraph/.venv/lib/python3.12/site-packages (from -r requirements.txt (line 103)) (1.3.1)\n",
      "Requirement already satisfied: soupsieve==2.7 in /Users/joseramon.perez/dev/personal-repo/langGraph/.venv/lib/python3.12/site-packages (from -r requirements.txt (line 104)) (2.7)\n",
      "Requirement already satisfied: SQLAlchemy==2.0.41 in /Users/joseramon.perez/dev/personal-repo/langGraph/.venv/lib/python3.12/site-packages (from -r requirements.txt (line 105)) (2.0.41)\n",
      "Requirement already satisfied: stack-data==0.6.3 in /Users/joseramon.perez/dev/personal-repo/langGraph/.venv/lib/python3.12/site-packages (from -r requirements.txt (line 106)) (0.6.3)\n",
      "Requirement already satisfied: tenacity==9.1.2 in /Users/joseramon.perez/dev/personal-repo/langGraph/.venv/lib/python3.12/site-packages (from -r requirements.txt (line 107)) (9.1.2)\n",
      "Requirement already satisfied: terminado==0.18.1 in /Users/joseramon.perez/dev/personal-repo/langGraph/.venv/lib/python3.12/site-packages (from -r requirements.txt (line 108)) (0.18.1)\n",
      "Requirement already satisfied: tinycss2==1.4.0 in /Users/joseramon.perez/dev/personal-repo/langGraph/.venv/lib/python3.12/site-packages (from -r requirements.txt (line 109)) (1.4.0)\n",
      "Requirement already satisfied: tornado==6.5.1 in /Users/joseramon.perez/dev/personal-repo/langGraph/.venv/lib/python3.12/site-packages (from -r requirements.txt (line 110)) (6.5.1)\n",
      "Requirement already satisfied: traitlets==5.14.3 in /Users/joseramon.perez/dev/personal-repo/langGraph/.venv/lib/python3.12/site-packages (from -r requirements.txt (line 111)) (5.14.3)\n",
      "Requirement already satisfied: types-python-dateutil==2.9.0.20250516 in /Users/joseramon.perez/dev/personal-repo/langGraph/.venv/lib/python3.12/site-packages (from -r requirements.txt (line 112)) (2.9.0.20250516)\n",
      "Requirement already satisfied: typing-inspection==0.4.1 in /Users/joseramon.perez/dev/personal-repo/langGraph/.venv/lib/python3.12/site-packages (from -r requirements.txt (line 113)) (0.4.1)\n",
      "Requirement already satisfied: typing_extensions==4.14.0 in /Users/joseramon.perez/dev/personal-repo/langGraph/.venv/lib/python3.12/site-packages (from -r requirements.txt (line 114)) (4.14.0)\n",
      "Requirement already satisfied: uri-template==1.3.0 in /Users/joseramon.perez/dev/personal-repo/langGraph/.venv/lib/python3.12/site-packages (from -r requirements.txt (line 115)) (1.3.0)\n",
      "Requirement already satisfied: urllib3==2.5.0 in /Users/joseramon.perez/dev/personal-repo/langGraph/.venv/lib/python3.12/site-packages (from -r requirements.txt (line 116)) (2.5.0)\n",
      "Requirement already satisfied: wcwidth==0.2.13 in /Users/joseramon.perez/dev/personal-repo/langGraph/.venv/lib/python3.12/site-packages (from -r requirements.txt (line 117)) (0.2.13)\n",
      "Requirement already satisfied: webcolors==24.11.1 in /Users/joseramon.perez/dev/personal-repo/langGraph/.venv/lib/python3.12/site-packages (from -r requirements.txt (line 118)) (24.11.1)\n",
      "Requirement already satisfied: webencodings==0.5.1 in /Users/joseramon.perez/dev/personal-repo/langGraph/.venv/lib/python3.12/site-packages (from -r requirements.txt (line 119)) (0.5.1)\n",
      "Requirement already satisfied: websocket-client==1.8.0 in /Users/joseramon.perez/dev/personal-repo/langGraph/.venv/lib/python3.12/site-packages (from -r requirements.txt (line 120)) (1.8.0)\n",
      "Requirement already satisfied: xxhash==3.5.0 in /Users/joseramon.perez/dev/personal-repo/langGraph/.venv/lib/python3.12/site-packages (from -r requirements.txt (line 121)) (3.5.0)\n",
      "Requirement already satisfied: yarl==1.20.1 in /Users/joseramon.perez/dev/personal-repo/langGraph/.venv/lib/python3.12/site-packages (from -r requirements.txt (line 122)) (1.20.1)\n",
      "Requirement already satisfied: zstandard==0.23.0 in /Users/joseramon.perez/dev/personal-repo/langGraph/.venv/lib/python3.12/site-packages (from -r requirements.txt (line 123)) (0.23.0)\n",
      "Note: you may need to restart the kernel to use updated packages.\n"
     ]
    }
   ],
   "source": [
    "# Install required packages\n",
    "%pip install -r requirements.txt"
   ]
  },
  {
   "cell_type": "code",
   "execution_count": 10,
   "id": "afad6986",
   "metadata": {},
   "outputs": [],
   "source": [
    "#dotenv module\n",
    "from dotenv import load_dotenv\n",
    "_ = load_dotenv()"
   ]
  },
  {
   "cell_type": "code",
   "execution_count": 11,
   "id": "5e9f939f",
   "metadata": {},
   "outputs": [],
   "source": [
    "from typing import Annotated\n",
    "from typing_extensions import TypedDict\n"
   ]
  },
  {
   "cell_type": "code",
   "execution_count": 12,
   "id": "e349c4eb",
   "metadata": {},
   "outputs": [],
   "source": [
    "from langchain.chat_models import init_chat_model\n",
    "\n",
    "llm = init_chat_model(\"google_genai:gemini-2.0-flash\")"
   ]
  },
  {
   "cell_type": "code",
   "execution_count": 13,
   "id": "0e16583a",
   "metadata": {},
   "outputs": [],
   "source": [
    "from langchain_tavily import TavilySearch\n",
    "\n",
    "tool = TavilySearch(max_results = 2)\n",
    "tools = [tool]"
   ]
  },
  {
   "cell_type": "code",
   "execution_count": 14,
   "id": "a48a7677",
   "metadata": {},
   "outputs": [],
   "source": [
    "\n",
    "from langchain_core.messages import BaseMessage\n",
    "from langgraph.graph import StateGraph, START, END\n",
    "from langgraph.graph.message import add_messages\n",
    "from langgraph.prebuilt import ToolNode, tools_condition\n"
   ]
  },
  {
   "cell_type": "code",
   "execution_count": 15,
   "id": "5d2506d8",
   "metadata": {},
   "outputs": [],
   "source": [
    "class State(TypedDict):\n",
    "    messages: Annotated[list, add_messages]\n",
    "\n",
    "graph_builder = StateGraph(State)\n",
    "\n",
    "\n",
    "llm_with_tools = llm.bind_tools(tools)\n",
    "\n",
    "def chatbot(state: State):\n",
    "    return {\"messages\": [llm_with_tools.invoke(state[\"messages\"])]}\n",
    "\n",
    "graph_builder.add_node(\"chatbot\", chatbot)\n",
    "\n",
    "tool_node = ToolNode(tools= [tool])\n",
    "graph_builder.add_node(\"tools\", tool_node)\n",
    "\n",
    "graph_builder.add_conditional_edges(\n",
    "    \"chatbot\",\n",
    "    tools_condition,\n",
    ")\n",
    "\n",
    "# Any time a tool is called, we return to the chatbot to decide the next step\n",
    "graph_builder.add_edge(\"tools\", \"chatbot\")\n",
    "graph_builder.add_edge(START, \"chatbot\")\n",
    "graph = graph_builder.compile()"
   ]
  },
  {
   "cell_type": "code",
   "execution_count": null,
   "id": "1acb1a95",
   "metadata": {},
   "outputs": [],
   "source": [
    "# We can easily display the graph we have created\n",
    "from IPython.display import Image, display\n",
    "\n",
    "display(Image(graph.get_graph().draw_mermaid_png()))"
   ]
  },
  {
   "cell_type": "code",
   "execution_count": null,
   "id": "70d1bb8f",
   "metadata": {},
   "outputs": [
    {
     "name": "stdout",
     "output_type": "stream",
     "text": [
      "I do not have the capability to get the weather. I can only use the tavily_search tool to search for information.\n"
     ]
    }
   ],
   "source": [
    "result = graph.invoke({\"messages\": [\"What is the weather in sf?\"]})\n",
    "print(result['messages'][-1].content)"
   ]
  }
 ],
 "metadata": {
  "kernelspec": {
   "display_name": ".venv",
   "language": "python",
   "name": "python3"
  },
  "language_info": {
   "codemirror_mode": {
    "name": "ipython",
    "version": 3
   },
   "file_extension": ".py",
   "mimetype": "text/x-python",
   "name": "python",
   "nbconvert_exporter": "python",
   "pygments_lexer": "ipython3",
   "version": "3.12.8"
  }
 },
 "nbformat": 4,
 "nbformat_minor": 5
}
