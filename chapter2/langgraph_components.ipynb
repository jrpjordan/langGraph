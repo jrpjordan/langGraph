{
 "cells": [
  {
   "cell_type": "code",
   "execution_count": 1,
   "id": "3b4824d6",
   "metadata": {},
   "outputs": [
    {
     "name": "stdout",
     "output_type": "stream",
     "text": [
      "Requirement already satisfied: aiohappyeyeballs==2.6.1 in /Users/joseramonperezjordan/dev/repository/langGraph/.venv/lib/python3.13/site-packages (from -r requirements.txt (line 1)) (2.6.1)\n",
      "Requirement already satisfied: aiohttp==3.12.13 in /Users/joseramonperezjordan/dev/repository/langGraph/.venv/lib/python3.13/site-packages (from -r requirements.txt (line 2)) (3.12.13)\n",
      "Requirement already satisfied: aiosignal==1.3.2 in /Users/joseramonperezjordan/dev/repository/langGraph/.venv/lib/python3.13/site-packages (from -r requirements.txt (line 3)) (1.3.2)\n",
      "Requirement already satisfied: annotated-types==0.7.0 in /Users/joseramonperezjordan/dev/repository/langGraph/.venv/lib/python3.13/site-packages (from -r requirements.txt (line 4)) (0.7.0)\n",
      "Requirement already satisfied: anyio==4.9.0 in /Users/joseramonperezjordan/dev/repository/langGraph/.venv/lib/python3.13/site-packages (from -r requirements.txt (line 5)) (4.9.0)\n",
      "Requirement already satisfied: appnope==0.1.4 in /Users/joseramonperezjordan/dev/repository/langGraph/.venv/lib/python3.13/site-packages (from -r requirements.txt (line 6)) (0.1.4)\n",
      "Requirement already satisfied: argon2-cffi==25.1.0 in /Users/joseramonperezjordan/dev/repository/langGraph/.venv/lib/python3.13/site-packages (from -r requirements.txt (line 7)) (25.1.0)\n",
      "Requirement already satisfied: argon2-cffi-bindings==21.2.0 in /Users/joseramonperezjordan/dev/repository/langGraph/.venv/lib/python3.13/site-packages (from -r requirements.txt (line 8)) (21.2.0)\n",
      "Requirement already satisfied: arrow==1.3.0 in /Users/joseramonperezjordan/dev/repository/langGraph/.venv/lib/python3.13/site-packages (from -r requirements.txt (line 9)) (1.3.0)\n",
      "Requirement already satisfied: asttokens==3.0.0 in /Users/joseramonperezjordan/dev/repository/langGraph/.venv/lib/python3.13/site-packages (from -r requirements.txt (line 10)) (3.0.0)\n",
      "Requirement already satisfied: async-lru==2.0.5 in /Users/joseramonperezjordan/dev/repository/langGraph/.venv/lib/python3.13/site-packages (from -r requirements.txt (line 11)) (2.0.5)\n",
      "Requirement already satisfied: attrs==25.3.0 in /Users/joseramonperezjordan/dev/repository/langGraph/.venv/lib/python3.13/site-packages (from -r requirements.txt (line 12)) (25.3.0)\n",
      "Requirement already satisfied: babel==2.17.0 in /Users/joseramonperezjordan/dev/repository/langGraph/.venv/lib/python3.13/site-packages (from -r requirements.txt (line 13)) (2.17.0)\n",
      "Requirement already satisfied: beautifulsoup4==4.13.4 in /Users/joseramonperezjordan/dev/repository/langGraph/.venv/lib/python3.13/site-packages (from -r requirements.txt (line 14)) (4.13.4)\n",
      "Requirement already satisfied: bleach==6.2.0 in /Users/joseramonperezjordan/dev/repository/langGraph/.venv/lib/python3.13/site-packages (from -r requirements.txt (line 15)) (6.2.0)\n",
      "Requirement already satisfied: cachetools==5.5.2 in /Users/joseramonperezjordan/dev/repository/langGraph/.venv/lib/python3.13/site-packages (from -r requirements.txt (line 16)) (5.5.2)\n",
      "Requirement already satisfied: certifi==2025.6.15 in /Users/joseramonperezjordan/dev/repository/langGraph/.venv/lib/python3.13/site-packages (from -r requirements.txt (line 17)) (2025.6.15)\n",
      "Requirement already satisfied: cffi==1.17.1 in /Users/joseramonperezjordan/dev/repository/langGraph/.venv/lib/python3.13/site-packages (from -r requirements.txt (line 18)) (1.17.1)\n",
      "Requirement already satisfied: charset-normalizer==3.4.2 in /Users/joseramonperezjordan/dev/repository/langGraph/.venv/lib/python3.13/site-packages (from -r requirements.txt (line 19)) (3.4.2)\n",
      "Requirement already satisfied: comm==0.2.2 in /Users/joseramonperezjordan/dev/repository/langGraph/.venv/lib/python3.13/site-packages (from -r requirements.txt (line 20)) (0.2.2)\n",
      "Requirement already satisfied: debugpy==1.8.14 in /Users/joseramonperezjordan/dev/repository/langGraph/.venv/lib/python3.13/site-packages (from -r requirements.txt (line 21)) (1.8.14)\n",
      "Requirement already satisfied: decorator==5.2.1 in /Users/joseramonperezjordan/dev/repository/langGraph/.venv/lib/python3.13/site-packages (from -r requirements.txt (line 22)) (5.2.1)\n",
      "Requirement already satisfied: defusedxml==0.7.1 in /Users/joseramonperezjordan/dev/repository/langGraph/.venv/lib/python3.13/site-packages (from -r requirements.txt (line 23)) (0.7.1)\n",
      "Requirement already satisfied: distro==1.9.0 in /Users/joseramonperezjordan/dev/repository/langGraph/.venv/lib/python3.13/site-packages (from -r requirements.txt (line 24)) (1.9.0)\n",
      "Requirement already satisfied: dotenv==0.9.9 in /Users/joseramonperezjordan/dev/repository/langGraph/.venv/lib/python3.13/site-packages (from -r requirements.txt (line 25)) (0.9.9)\n",
      "Requirement already satisfied: executing==2.2.0 in /Users/joseramonperezjordan/dev/repository/langGraph/.venv/lib/python3.13/site-packages (from -r requirements.txt (line 26)) (2.2.0)\n",
      "Requirement already satisfied: fastjsonschema==2.21.1 in /Users/joseramonperezjordan/dev/repository/langGraph/.venv/lib/python3.13/site-packages (from -r requirements.txt (line 27)) (2.21.1)\n",
      "Requirement already satisfied: filetype==1.2.0 in /Users/joseramonperezjordan/dev/repository/langGraph/.venv/lib/python3.13/site-packages (from -r requirements.txt (line 28)) (1.2.0)\n",
      "Requirement already satisfied: fqdn==1.5.1 in /Users/joseramonperezjordan/dev/repository/langGraph/.venv/lib/python3.13/site-packages (from -r requirements.txt (line 29)) (1.5.1)\n",
      "Requirement already satisfied: frozenlist==1.7.0 in /Users/joseramonperezjordan/dev/repository/langGraph/.venv/lib/python3.13/site-packages (from -r requirements.txt (line 30)) (1.7.0)\n",
      "Requirement already satisfied: google-ai-generativelanguage==0.6.18 in /Users/joseramonperezjordan/dev/repository/langGraph/.venv/lib/python3.13/site-packages (from -r requirements.txt (line 31)) (0.6.18)\n",
      "Requirement already satisfied: google-api-core==2.25.1 in /Users/joseramonperezjordan/dev/repository/langGraph/.venv/lib/python3.13/site-packages (from -r requirements.txt (line 32)) (2.25.1)\n",
      "Requirement already satisfied: google-auth==2.40.3 in /Users/joseramonperezjordan/dev/repository/langGraph/.venv/lib/python3.13/site-packages (from -r requirements.txt (line 33)) (2.40.3)\n",
      "Requirement already satisfied: googleapis-common-protos==1.70.0 in /Users/joseramonperezjordan/dev/repository/langGraph/.venv/lib/python3.13/site-packages (from -r requirements.txt (line 34)) (1.70.0)\n",
      "Requirement already satisfied: greenlet==3.2.3 in /Users/joseramonperezjordan/dev/repository/langGraph/.venv/lib/python3.13/site-packages (from -r requirements.txt (line 35)) (3.2.3)\n",
      "Requirement already satisfied: grpcio==1.73.1 in /Users/joseramonperezjordan/dev/repository/langGraph/.venv/lib/python3.13/site-packages (from -r requirements.txt (line 36)) (1.73.1)\n",
      "Requirement already satisfied: grpcio-status==1.73.1 in /Users/joseramonperezjordan/dev/repository/langGraph/.venv/lib/python3.13/site-packages (from -r requirements.txt (line 37)) (1.73.1)\n",
      "Requirement already satisfied: h11==0.16.0 in /Users/joseramonperezjordan/dev/repository/langGraph/.venv/lib/python3.13/site-packages (from -r requirements.txt (line 38)) (0.16.0)\n",
      "Requirement already satisfied: httpcore==1.0.9 in /Users/joseramonperezjordan/dev/repository/langGraph/.venv/lib/python3.13/site-packages (from -r requirements.txt (line 39)) (1.0.9)\n",
      "Requirement already satisfied: httpx==0.28.1 in /Users/joseramonperezjordan/dev/repository/langGraph/.venv/lib/python3.13/site-packages (from -r requirements.txt (line 40)) (0.28.1)\n",
      "Requirement already satisfied: idna==3.10 in /Users/joseramonperezjordan/dev/repository/langGraph/.venv/lib/python3.13/site-packages (from -r requirements.txt (line 41)) (3.10)\n",
      "Requirement already satisfied: ipykernel==6.29.5 in /Users/joseramonperezjordan/dev/repository/langGraph/.venv/lib/python3.13/site-packages (from -r requirements.txt (line 42)) (6.29.5)\n",
      "Requirement already satisfied: ipython==9.3.0 in /Users/joseramonperezjordan/dev/repository/langGraph/.venv/lib/python3.13/site-packages (from -r requirements.txt (line 43)) (9.3.0)\n",
      "Requirement already satisfied: ipython_pygments_lexers==1.1.1 in /Users/joseramonperezjordan/dev/repository/langGraph/.venv/lib/python3.13/site-packages (from -r requirements.txt (line 44)) (1.1.1)\n",
      "Requirement already satisfied: isoduration==20.11.0 in /Users/joseramonperezjordan/dev/repository/langGraph/.venv/lib/python3.13/site-packages (from -r requirements.txt (line 45)) (20.11.0)\n",
      "Requirement already satisfied: jedi==0.19.2 in /Users/joseramonperezjordan/dev/repository/langGraph/.venv/lib/python3.13/site-packages (from -r requirements.txt (line 46)) (0.19.2)\n",
      "Requirement already satisfied: Jinja2==3.1.6 in /Users/joseramonperezjordan/dev/repository/langGraph/.venv/lib/python3.13/site-packages (from -r requirements.txt (line 47)) (3.1.6)\n",
      "Requirement already satisfied: jiter==0.10.0 in /Users/joseramonperezjordan/dev/repository/langGraph/.venv/lib/python3.13/site-packages (from -r requirements.txt (line 48)) (0.10.0)\n",
      "Requirement already satisfied: json5==0.12.0 in /Users/joseramonperezjordan/dev/repository/langGraph/.venv/lib/python3.13/site-packages (from -r requirements.txt (line 49)) (0.12.0)\n",
      "Requirement already satisfied: jsonpatch==1.33 in /Users/joseramonperezjordan/dev/repository/langGraph/.venv/lib/python3.13/site-packages (from -r requirements.txt (line 50)) (1.33)\n",
      "Requirement already satisfied: jsonpointer==3.0.0 in /Users/joseramonperezjordan/dev/repository/langGraph/.venv/lib/python3.13/site-packages (from -r requirements.txt (line 51)) (3.0.0)\n",
      "Requirement already satisfied: jsonschema==4.24.0 in /Users/joseramonperezjordan/dev/repository/langGraph/.venv/lib/python3.13/site-packages (from -r requirements.txt (line 52)) (4.24.0)\n",
      "Requirement already satisfied: jsonschema-specifications==2025.4.1 in /Users/joseramonperezjordan/dev/repository/langGraph/.venv/lib/python3.13/site-packages (from -r requirements.txt (line 53)) (2025.4.1)\n",
      "Requirement already satisfied: jupyter-events==0.12.0 in /Users/joseramonperezjordan/dev/repository/langGraph/.venv/lib/python3.13/site-packages (from -r requirements.txt (line 54)) (0.12.0)\n",
      "Requirement already satisfied: jupyter-lsp==2.2.5 in /Users/joseramonperezjordan/dev/repository/langGraph/.venv/lib/python3.13/site-packages (from -r requirements.txt (line 55)) (2.2.5)\n",
      "Requirement already satisfied: jupyter_client==8.6.3 in /Users/joseramonperezjordan/dev/repository/langGraph/.venv/lib/python3.13/site-packages (from -r requirements.txt (line 56)) (8.6.3)\n",
      "Requirement already satisfied: jupyter_core==5.8.1 in /Users/joseramonperezjordan/dev/repository/langGraph/.venv/lib/python3.13/site-packages (from -r requirements.txt (line 57)) (5.8.1)\n",
      "Requirement already satisfied: jupyter_server==2.16.0 in /Users/joseramonperezjordan/dev/repository/langGraph/.venv/lib/python3.13/site-packages (from -r requirements.txt (line 58)) (2.16.0)\n",
      "Requirement already satisfied: jupyter_server_terminals==0.5.3 in /Users/joseramonperezjordan/dev/repository/langGraph/.venv/lib/python3.13/site-packages (from -r requirements.txt (line 59)) (0.5.3)\n",
      "Requirement already satisfied: jupyterlab==4.4.4 in /Users/joseramonperezjordan/dev/repository/langGraph/.venv/lib/python3.13/site-packages (from -r requirements.txt (line 60)) (4.4.4)\n",
      "Requirement already satisfied: jupyterlab_pygments==0.3.0 in /Users/joseramonperezjordan/dev/repository/langGraph/.venv/lib/python3.13/site-packages (from -r requirements.txt (line 61)) (0.3.0)\n",
      "Requirement already satisfied: jupyterlab_server==2.27.3 in /Users/joseramonperezjordan/dev/repository/langGraph/.venv/lib/python3.13/site-packages (from -r requirements.txt (line 62)) (2.27.3)\n",
      "Requirement already satisfied: langchain==0.3.26 in /Users/joseramonperezjordan/dev/repository/langGraph/.venv/lib/python3.13/site-packages (from -r requirements.txt (line 63)) (0.3.26)\n",
      "Requirement already satisfied: langchain-core==0.3.66 in /Users/joseramonperezjordan/dev/repository/langGraph/.venv/lib/python3.13/site-packages (from -r requirements.txt (line 64)) (0.3.66)\n",
      "Requirement already satisfied: langchain-google-genai==2.1.6 in /Users/joseramonperezjordan/dev/repository/langGraph/.venv/lib/python3.13/site-packages (from -r requirements.txt (line 65)) (2.1.6)\n",
      "Requirement already satisfied: langchain-openai==0.3.27 in /Users/joseramonperezjordan/dev/repository/langGraph/.venv/lib/python3.13/site-packages (from -r requirements.txt (line 66)) (0.3.27)\n",
      "Requirement already satisfied: langchain-tavily==0.2.5 in /Users/joseramonperezjordan/dev/repository/langGraph/.venv/lib/python3.13/site-packages (from -r requirements.txt (line 67)) (0.2.5)\n",
      "Requirement already satisfied: langchain-text-splitters==0.3.8 in /Users/joseramonperezjordan/dev/repository/langGraph/.venv/lib/python3.13/site-packages (from -r requirements.txt (line 68)) (0.3.8)\n",
      "Requirement already satisfied: langgraph==0.5.0 in /Users/joseramonperezjordan/dev/repository/langGraph/.venv/lib/python3.13/site-packages (from -r requirements.txt (line 69)) (0.5.0)\n",
      "Requirement already satisfied: langgraph-checkpoint==2.1.0 in /Users/joseramonperezjordan/dev/repository/langGraph/.venv/lib/python3.13/site-packages (from -r requirements.txt (line 70)) (2.1.0)\n",
      "Requirement already satisfied: langgraph-prebuilt==0.5.1 in /Users/joseramonperezjordan/dev/repository/langGraph/.venv/lib/python3.13/site-packages (from -r requirements.txt (line 71)) (0.5.1)\n",
      "Requirement already satisfied: langgraph-sdk==0.1.72 in /Users/joseramonperezjordan/dev/repository/langGraph/.venv/lib/python3.13/site-packages (from -r requirements.txt (line 72)) (0.1.72)\n",
      "Requirement already satisfied: langsmith==0.4.4 in /Users/joseramonperezjordan/dev/repository/langGraph/.venv/lib/python3.13/site-packages (from -r requirements.txt (line 73)) (0.4.4)\n",
      "Requirement already satisfied: MarkupSafe==3.0.2 in /Users/joseramonperezjordan/dev/repository/langGraph/.venv/lib/python3.13/site-packages (from -r requirements.txt (line 74)) (3.0.2)\n",
      "Requirement already satisfied: matplotlib-inline==0.1.7 in /Users/joseramonperezjordan/dev/repository/langGraph/.venv/lib/python3.13/site-packages (from -r requirements.txt (line 75)) (0.1.7)\n",
      "Requirement already satisfied: mistune==3.1.3 in /Users/joseramonperezjordan/dev/repository/langGraph/.venv/lib/python3.13/site-packages (from -r requirements.txt (line 76)) (3.1.3)\n",
      "Requirement already satisfied: multidict==6.6.2 in /Users/joseramonperezjordan/dev/repository/langGraph/.venv/lib/python3.13/site-packages (from -r requirements.txt (line 77)) (6.6.2)\n",
      "Requirement already satisfied: nbclient==0.10.2 in /Users/joseramonperezjordan/dev/repository/langGraph/.venv/lib/python3.13/site-packages (from -r requirements.txt (line 78)) (0.10.2)\n",
      "Requirement already satisfied: nbconvert==7.16.6 in /Users/joseramonperezjordan/dev/repository/langGraph/.venv/lib/python3.13/site-packages (from -r requirements.txt (line 79)) (7.16.6)\n",
      "Requirement already satisfied: nbformat==5.10.4 in /Users/joseramonperezjordan/dev/repository/langGraph/.venv/lib/python3.13/site-packages (from -r requirements.txt (line 80)) (5.10.4)\n",
      "Requirement already satisfied: nest-asyncio==1.6.0 in /Users/joseramonperezjordan/dev/repository/langGraph/.venv/lib/python3.13/site-packages (from -r requirements.txt (line 81)) (1.6.0)\n",
      "Requirement already satisfied: notebook==7.4.3 in /Users/joseramonperezjordan/dev/repository/langGraph/.venv/lib/python3.13/site-packages (from -r requirements.txt (line 82)) (7.4.3)\n",
      "Requirement already satisfied: notebook_shim==0.2.4 in /Users/joseramonperezjordan/dev/repository/langGraph/.venv/lib/python3.13/site-packages (from -r requirements.txt (line 83)) (0.2.4)\n",
      "Requirement already satisfied: openai==1.93.0 in /Users/joseramonperezjordan/dev/repository/langGraph/.venv/lib/python3.13/site-packages (from -r requirements.txt (line 84)) (1.93.0)\n",
      "Requirement already satisfied: orjson==3.10.18 in /Users/joseramonperezjordan/dev/repository/langGraph/.venv/lib/python3.13/site-packages (from -r requirements.txt (line 85)) (3.10.18)\n",
      "Requirement already satisfied: ormsgpack==1.10.0 in /Users/joseramonperezjordan/dev/repository/langGraph/.venv/lib/python3.13/site-packages (from -r requirements.txt (line 86)) (1.10.0)\n",
      "Requirement already satisfied: overrides==7.7.0 in /Users/joseramonperezjordan/dev/repository/langGraph/.venv/lib/python3.13/site-packages (from -r requirements.txt (line 87)) (7.7.0)\n",
      "Requirement already satisfied: packaging==24.2 in /Users/joseramonperezjordan/dev/repository/langGraph/.venv/lib/python3.13/site-packages (from -r requirements.txt (line 88)) (24.2)\n",
      "Requirement already satisfied: pandocfilters==1.5.1 in /Users/joseramonperezjordan/dev/repository/langGraph/.venv/lib/python3.13/site-packages (from -r requirements.txt (line 89)) (1.5.1)\n",
      "Requirement already satisfied: parso==0.8.4 in /Users/joseramonperezjordan/dev/repository/langGraph/.venv/lib/python3.13/site-packages (from -r requirements.txt (line 90)) (0.8.4)\n",
      "Requirement already satisfied: pexpect==4.9.0 in /Users/joseramonperezjordan/dev/repository/langGraph/.venv/lib/python3.13/site-packages (from -r requirements.txt (line 91)) (4.9.0)\n",
      "Requirement already satisfied: platformdirs==4.3.8 in /Users/joseramonperezjordan/dev/repository/langGraph/.venv/lib/python3.13/site-packages (from -r requirements.txt (line 92)) (4.3.8)\n",
      "Requirement already satisfied: prometheus_client==0.22.1 in /Users/joseramonperezjordan/dev/repository/langGraph/.venv/lib/python3.13/site-packages (from -r requirements.txt (line 93)) (0.22.1)\n",
      "Requirement already satisfied: prompt_toolkit==3.0.51 in /Users/joseramonperezjordan/dev/repository/langGraph/.venv/lib/python3.13/site-packages (from -r requirements.txt (line 94)) (3.0.51)\n",
      "Requirement already satisfied: propcache==0.3.2 in /Users/joseramonperezjordan/dev/repository/langGraph/.venv/lib/python3.13/site-packages (from -r requirements.txt (line 95)) (0.3.2)\n",
      "Requirement already satisfied: proto-plus==1.26.1 in /Users/joseramonperezjordan/dev/repository/langGraph/.venv/lib/python3.13/site-packages (from -r requirements.txt (line 96)) (1.26.1)\n",
      "Requirement already satisfied: protobuf==6.31.1 in /Users/joseramonperezjordan/dev/repository/langGraph/.venv/lib/python3.13/site-packages (from -r requirements.txt (line 97)) (6.31.1)\n",
      "Requirement already satisfied: psutil==7.0.0 in /Users/joseramonperezjordan/dev/repository/langGraph/.venv/lib/python3.13/site-packages (from -r requirements.txt (line 98)) (7.0.0)\n",
      "Requirement already satisfied: ptyprocess==0.7.0 in /Users/joseramonperezjordan/dev/repository/langGraph/.venv/lib/python3.13/site-packages (from -r requirements.txt (line 99)) (0.7.0)\n",
      "Requirement already satisfied: pure_eval==0.2.3 in /Users/joseramonperezjordan/dev/repository/langGraph/.venv/lib/python3.13/site-packages (from -r requirements.txt (line 100)) (0.2.3)\n",
      "Requirement already satisfied: pyasn1==0.6.1 in /Users/joseramonperezjordan/dev/repository/langGraph/.venv/lib/python3.13/site-packages (from -r requirements.txt (line 101)) (0.6.1)\n",
      "Requirement already satisfied: pyasn1_modules==0.4.2 in /Users/joseramonperezjordan/dev/repository/langGraph/.venv/lib/python3.13/site-packages (from -r requirements.txt (line 102)) (0.4.2)\n",
      "Requirement already satisfied: pycparser==2.22 in /Users/joseramonperezjordan/dev/repository/langGraph/.venv/lib/python3.13/site-packages (from -r requirements.txt (line 103)) (2.22)\n",
      "Requirement already satisfied: pydantic==2.11.7 in /Users/joseramonperezjordan/dev/repository/langGraph/.venv/lib/python3.13/site-packages (from -r requirements.txt (line 104)) (2.11.7)\n",
      "Requirement already satisfied: pydantic_core==2.33.2 in /Users/joseramonperezjordan/dev/repository/langGraph/.venv/lib/python3.13/site-packages (from -r requirements.txt (line 105)) (2.33.2)\n",
      "Requirement already satisfied: Pygments==2.19.2 in /Users/joseramonperezjordan/dev/repository/langGraph/.venv/lib/python3.13/site-packages (from -r requirements.txt (line 106)) (2.19.2)\n",
      "Requirement already satisfied: python-dateutil==2.9.0.post0 in /Users/joseramonperezjordan/dev/repository/langGraph/.venv/lib/python3.13/site-packages (from -r requirements.txt (line 107)) (2.9.0.post0)\n",
      "Requirement already satisfied: python-dotenv==1.1.1 in /Users/joseramonperezjordan/dev/repository/langGraph/.venv/lib/python3.13/site-packages (from -r requirements.txt (line 108)) (1.1.1)\n",
      "Requirement already satisfied: python-json-logger==3.3.0 in /Users/joseramonperezjordan/dev/repository/langGraph/.venv/lib/python3.13/site-packages (from -r requirements.txt (line 109)) (3.3.0)\n",
      "Requirement already satisfied: PyYAML==6.0.2 in /Users/joseramonperezjordan/dev/repository/langGraph/.venv/lib/python3.13/site-packages (from -r requirements.txt (line 110)) (6.0.2)\n",
      "Requirement already satisfied: pyzmq==27.0.0 in /Users/joseramonperezjordan/dev/repository/langGraph/.venv/lib/python3.13/site-packages (from -r requirements.txt (line 111)) (27.0.0)\n",
      "Requirement already satisfied: referencing==0.36.2 in /Users/joseramonperezjordan/dev/repository/langGraph/.venv/lib/python3.13/site-packages (from -r requirements.txt (line 112)) (0.36.2)\n",
      "Requirement already satisfied: regex==2024.11.6 in /Users/joseramonperezjordan/dev/repository/langGraph/.venv/lib/python3.13/site-packages (from -r requirements.txt (line 113)) (2024.11.6)\n",
      "Requirement already satisfied: requests==2.32.4 in /Users/joseramonperezjordan/dev/repository/langGraph/.venv/lib/python3.13/site-packages (from -r requirements.txt (line 114)) (2.32.4)\n",
      "Requirement already satisfied: requests-toolbelt==1.0.0 in /Users/joseramonperezjordan/dev/repository/langGraph/.venv/lib/python3.13/site-packages (from -r requirements.txt (line 115)) (1.0.0)\n",
      "Requirement already satisfied: rfc3339-validator==0.1.4 in /Users/joseramonperezjordan/dev/repository/langGraph/.venv/lib/python3.13/site-packages (from -r requirements.txt (line 116)) (0.1.4)\n",
      "Requirement already satisfied: rfc3986-validator==0.1.1 in /Users/joseramonperezjordan/dev/repository/langGraph/.venv/lib/python3.13/site-packages (from -r requirements.txt (line 117)) (0.1.1)\n",
      "Requirement already satisfied: rpds-py==0.25.1 in /Users/joseramonperezjordan/dev/repository/langGraph/.venv/lib/python3.13/site-packages (from -r requirements.txt (line 118)) (0.25.1)\n",
      "Requirement already satisfied: rsa==4.9.1 in /Users/joseramonperezjordan/dev/repository/langGraph/.venv/lib/python3.13/site-packages (from -r requirements.txt (line 119)) (4.9.1)\n",
      "Requirement already satisfied: Send2Trash==1.8.3 in /Users/joseramonperezjordan/dev/repository/langGraph/.venv/lib/python3.13/site-packages (from -r requirements.txt (line 120)) (1.8.3)\n",
      "Requirement already satisfied: setuptools==80.9.0 in /Users/joseramonperezjordan/dev/repository/langGraph/.venv/lib/python3.13/site-packages (from -r requirements.txt (line 121)) (80.9.0)\n",
      "Requirement already satisfied: six==1.17.0 in /Users/joseramonperezjordan/dev/repository/langGraph/.venv/lib/python3.13/site-packages (from -r requirements.txt (line 122)) (1.17.0)\n",
      "Requirement already satisfied: sniffio==1.3.1 in /Users/joseramonperezjordan/dev/repository/langGraph/.venv/lib/python3.13/site-packages (from -r requirements.txt (line 123)) (1.3.1)\n",
      "Requirement already satisfied: soupsieve==2.7 in /Users/joseramonperezjordan/dev/repository/langGraph/.venv/lib/python3.13/site-packages (from -r requirements.txt (line 124)) (2.7)\n",
      "Requirement already satisfied: SQLAlchemy==2.0.41 in /Users/joseramonperezjordan/dev/repository/langGraph/.venv/lib/python3.13/site-packages (from -r requirements.txt (line 125)) (2.0.41)\n",
      "Requirement already satisfied: stack-data==0.6.3 in /Users/joseramonperezjordan/dev/repository/langGraph/.venv/lib/python3.13/site-packages (from -r requirements.txt (line 126)) (0.6.3)\n",
      "Requirement already satisfied: tenacity==9.1.2 in /Users/joseramonperezjordan/dev/repository/langGraph/.venv/lib/python3.13/site-packages (from -r requirements.txt (line 127)) (9.1.2)\n",
      "Requirement already satisfied: terminado==0.18.1 in /Users/joseramonperezjordan/dev/repository/langGraph/.venv/lib/python3.13/site-packages (from -r requirements.txt (line 128)) (0.18.1)\n",
      "Requirement already satisfied: tiktoken==0.9.0 in /Users/joseramonperezjordan/dev/repository/langGraph/.venv/lib/python3.13/site-packages (from -r requirements.txt (line 129)) (0.9.0)\n",
      "Requirement already satisfied: tinycss2==1.4.0 in /Users/joseramonperezjordan/dev/repository/langGraph/.venv/lib/python3.13/site-packages (from -r requirements.txt (line 130)) (1.4.0)\n",
      "Requirement already satisfied: tornado==6.5.1 in /Users/joseramonperezjordan/dev/repository/langGraph/.venv/lib/python3.13/site-packages (from -r requirements.txt (line 131)) (6.5.1)\n",
      "Requirement already satisfied: tqdm==4.67.1 in /Users/joseramonperezjordan/dev/repository/langGraph/.venv/lib/python3.13/site-packages (from -r requirements.txt (line 132)) (4.67.1)\n",
      "Requirement already satisfied: traitlets==5.14.3 in /Users/joseramonperezjordan/dev/repository/langGraph/.venv/lib/python3.13/site-packages (from -r requirements.txt (line 133)) (5.14.3)\n",
      "Requirement already satisfied: types-python-dateutil==2.9.0.20250516 in /Users/joseramonperezjordan/dev/repository/langGraph/.venv/lib/python3.13/site-packages (from -r requirements.txt (line 134)) (2.9.0.20250516)\n",
      "Requirement already satisfied: typing-inspection==0.4.1 in /Users/joseramonperezjordan/dev/repository/langGraph/.venv/lib/python3.13/site-packages (from -r requirements.txt (line 135)) (0.4.1)\n",
      "Requirement already satisfied: typing_extensions==4.14.0 in /Users/joseramonperezjordan/dev/repository/langGraph/.venv/lib/python3.13/site-packages (from -r requirements.txt (line 136)) (4.14.0)\n",
      "Requirement already satisfied: uri-template==1.3.0 in /Users/joseramonperezjordan/dev/repository/langGraph/.venv/lib/python3.13/site-packages (from -r requirements.txt (line 137)) (1.3.0)\n",
      "Requirement already satisfied: urllib3==2.5.0 in /Users/joseramonperezjordan/dev/repository/langGraph/.venv/lib/python3.13/site-packages (from -r requirements.txt (line 138)) (2.5.0)\n",
      "Requirement already satisfied: wcwidth==0.2.13 in /Users/joseramonperezjordan/dev/repository/langGraph/.venv/lib/python3.13/site-packages (from -r requirements.txt (line 139)) (0.2.13)\n",
      "Requirement already satisfied: webcolors==24.11.1 in /Users/joseramonperezjordan/dev/repository/langGraph/.venv/lib/python3.13/site-packages (from -r requirements.txt (line 140)) (24.11.1)\n",
      "Requirement already satisfied: webencodings==0.5.1 in /Users/joseramonperezjordan/dev/repository/langGraph/.venv/lib/python3.13/site-packages (from -r requirements.txt (line 141)) (0.5.1)\n",
      "Requirement already satisfied: websocket-client==1.8.0 in /Users/joseramonperezjordan/dev/repository/langGraph/.venv/lib/python3.13/site-packages (from -r requirements.txt (line 142)) (1.8.0)\n",
      "Requirement already satisfied: xxhash==3.5.0 in /Users/joseramonperezjordan/dev/repository/langGraph/.venv/lib/python3.13/site-packages (from -r requirements.txt (line 143)) (3.5.0)\n",
      "Requirement already satisfied: yarl==1.20.1 in /Users/joseramonperezjordan/dev/repository/langGraph/.venv/lib/python3.13/site-packages (from -r requirements.txt (line 144)) (1.20.1)\n",
      "Requirement already satisfied: zstandard==0.23.0 in /Users/joseramonperezjordan/dev/repository/langGraph/.venv/lib/python3.13/site-packages (from -r requirements.txt (line 145)) (0.23.0)\n",
      "Note: you may need to restart the kernel to use updated packages.\n"
     ]
    }
   ],
   "source": [
    "# Install required packages\n",
    "%pip install -r requirements.txt\n"
   ]
  },
  {
   "cell_type": "code",
   "execution_count": 2,
   "id": "2ad42b3d",
   "metadata": {},
   "outputs": [],
   "source": [
    "#dotenv module\n",
    "from dotenv import load_dotenv\n",
    "_ = load_dotenv()"
   ]
  },
  {
   "cell_type": "code",
   "execution_count": 3,
   "id": "03f6f628",
   "metadata": {},
   "outputs": [],
   "source": [
    "#Adding typing module for typed python\n",
    "# Documentation for python typing annotation https://docs.python.org/3/library/typing.html\n",
    "from typing import TypedDict, Annotated\n",
    "import operator"
   ]
  },
  {
   "cell_type": "code",
   "execution_count": 4,
   "id": "2b20627f",
   "metadata": {},
   "outputs": [],
   "source": [
    "#langgraph module and tavily search tool\n",
    "from langgraph.graph import StateGraph, START, END\n",
    "from langchain_core.messages import AnyMessage, SystemMessage, ToolMessage, HumanMessage\n",
    "from langchain_tavily import TavilySearch"
   ]
  },
  {
   "cell_type": "code",
   "execution_count": 5,
   "id": "2bb9d136",
   "metadata": {},
   "outputs": [],
   "source": [
    "# Google Gemini used for this example : https://python.langchain.com/docs/integrations/providers/google/\n",
    "# from langchain_google_genai import ChatGoogleGenerativeAI\n",
    "from langchain.chat_models import init_chat_model"
   ]
  },
  {
   "cell_type": "code",
   "execution_count": 6,
   "id": "055d28e2",
   "metadata": {},
   "outputs": [
    {
     "name": "stdout",
     "output_type": "stream",
     "text": [
      "<class 'langchain_tavily.tavily_search.TavilySearch'>\n",
      "tavily_search\n",
      "{'name': 'tavily_search', 'description': 'A search engine optimized for comprehensive, accurate, and trusted results. Useful for when you need to answer questions about current events. It not only retrieves URLs and snippets, but offers advanced search depths, domain management, time range filters, and image search, this tool delivers real-time, accurate, and citation-backed results.Input should be a search query.', 'args_schema': <class 'langchain_tavily.tavily_search.TavilySearchInput'>, 'return_direct': False, 'verbose': False, 'callbacks': None, 'callback_manager': None, 'tags': None, 'metadata': None, 'handle_tool_error': True, 'handle_validation_error': False, 'response_format': 'content', 'auto_parameters': None, 'include_domains': None, 'exclude_domains': None, 'search_depth': None, 'include_images': None, 'time_range': None, 'max_results': 2, 'topic': None, 'include_answer': None, 'include_raw_content': None, 'include_image_descriptions': None, 'country': None, 'api_wrapper': TavilySearchAPIWrapper(tavily_api_key=SecretStr('**********'))}\n"
     ]
    }
   ],
   "source": [
    "tool = TavilySearch(max_results=2)\n",
    "print(type(tool))\n",
    "print(tool.name)\n",
    "print(vars(tool))\n",
    "#response = tool.invoke(\"What is LangGraph?\")\n",
    "#print(response)"
   ]
  },
  {
   "cell_type": "code",
   "execution_count": 7,
   "id": "cf6f51fb",
   "metadata": {},
   "outputs": [],
   "source": [
    "class AgentState(TypedDict):\n",
    "    messages: Annotated[list[AnyMessage], operator.add]"
   ]
  },
  {
   "cell_type": "code",
   "execution_count": 8,
   "id": "a47fb763",
   "metadata": {},
   "outputs": [],
   "source": [
    "class Agent:\n",
    "\n",
    "    def __init__(self, model, tools, system=\"\"):\n",
    "        self.system = system\n",
    "        graph = StateGraph(AgentState)\n",
    "        graph.add_node(\"llm\", self.call_openai)\n",
    "        graph.add_node(\"action\", self.take_action)\n",
    "        graph.add_conditional_edges(\n",
    "            \"llm\",\n",
    "            self.exists_action,\n",
    "            {True: \"action\", False: END}\n",
    "        )\n",
    "        graph.add_edge(\"action\", \"llm\")\n",
    "        graph.set_entry_point(\"llm\")\n",
    "        self.graph = graph.compile()\n",
    "        self.tools = {t.name: t for t in tools}\n",
    "       #self.model = model.bind_tools(tools)\n",
    "        self.model = model\n",
    "\n",
    "    def exists_action(self, state: AgentState):\n",
    "        result = state['messages'][-1]\n",
    "        return len(result.tool_calls) > 0\n",
    "\n",
    "    def call_openai(self, state: AgentState):\n",
    "        messages = state['messages']\n",
    "        if self.system:\n",
    "            messages = [SystemMessage(content=self.system)] + messages\n",
    "        message = self.model.invoke(messages)\n",
    "        return {'messages': [message]}\n",
    "\n",
    "    def take_action(self, state: AgentState):\n",
    "        tool_calls = state['messages'][-1].tool_calls\n",
    "        results = []\n",
    "        for t in tool_calls:\n",
    "            print(f\"Calling: {t}\")\n",
    "            if not t['name'] in self.tools:      # check for bad tool name from LLM\n",
    "                print(\"\\n ....bad tool name....\")\n",
    "                result = \"bad tool name, retry\"  # instruct LLM to retry if bad\n",
    "            else:\n",
    "                result = self.tools[t['name']].invoke(t['args'])\n",
    "            results.append(ToolMessage(tool_call_id=t['id'], name=t['name'], content=str(result)))\n",
    "        print(\"Back to the model!\")\n",
    "        return {'messages': results}\n"
   ]
  },
  {
   "cell_type": "code",
   "execution_count": null,
   "id": "c4e79d39",
   "metadata": {},
   "outputs": [],
   "source": [
    "prompt = \"\"\"You are a smart research assistant. Use the search engine to look up information. \\\n",
    "You are allowed to make multiple calls (either together or in sequence). \\\n",
    "Only look up information when you are sure of what you want. \\\n",
    "If you need to look up some information before asking a follow up question, you are allowed to do that!\n",
    "\"\"\"\n",
    "\n",
    "model = init_chat_model(\"google_genai:gemini-2.5-pro\").bind_tools([tool])\n",
    "\n",
    "\n",
    "abot = Agent(model, [tool], system=prompt)"
   ]
  },
  {
   "cell_type": "code",
   "execution_count": 10,
   "id": "c3280819",
   "metadata": {},
   "outputs": [
    {
     "data": {
      "image/png": "[encoded data removed]",
      "text/plain": [
       "<IPython.core.display.Image object>"
      ]
     },
     "metadata": {},
     "output_type": "display_data"
    }
   ],
   "source": [
    "\n",
    "# We can easily display the graph we have created\n",
    "from IPython.display import Image, display\n",
    "\n",
    "display(Image(abot.graph.get_graph().draw_mermaid_png()))"
   ]
  },
  {
   "cell_type": "code",
   "execution_count": 11,
   "id": "db21778a",
   "metadata": {},
   "outputs": [
    {
     "name": "stdout",
     "output_type": "stream",
     "text": [
      "Calling: {'name': 'tavily_search', 'args': {'query': 'weather in San Francisco'}, 'id': '82bf7b1f-8be8-4449-aab9-9d8cf3417d86', 'type': 'tool_call'}\n",
      "Back to the model!\n"
     ]
    }
   ],
   "source": [
    "messages = [HumanMessage(content = \"What is the weather in sf?\")]\n",
    "result = abot.graph.invoke({\"messages\": messages})"
   ]
  },
  {
   "cell_type": "code",
   "execution_count": 12,
   "id": "9c0e6f0c",
   "metadata": {},
   "outputs": [
    {
     "data": {
      "text/plain": [
       "{'messages': [HumanMessage(content='What is the weather in sf?', additional_kwargs={}, response_metadata={}),\n",
       "  AIMessage(content='', additional_kwargs={'function_call': {'name': 'tavily_search', 'arguments': '{\"query\": \"weather in San Francisco\"}'}}, response_metadata={'prompt_feedback': {'block_reason': 0, 'safety_ratings': []}, 'finish_reason': 'STOP', 'model_name': 'gemini-2.5-pro', 'safety_ratings': []}, id='run--0036b2bb-10ab-4021-98bf-c807274433c3-0', tool_calls=[{'name': 'tavily_search', 'args': {'query': 'weather in San Francisco'}, 'id': '82bf7b1f-8be8-4449-aab9-9d8cf3417d86', 'type': 'tool_call'}], usage_metadata={'input_tokens': 598, 'output_tokens': 20, 'total_tokens': 910, 'input_token_details': {'cache_read': 0}, 'output_token_details': {'reasoning': 292}}),\n",
       "  ToolMessage(content='{\\'query\\': \\'weather in San Francisco\\', \\'follow_up_questions\\': None, \\'answer\\': None, \\'images\\': [], \\'results\\': [{\\'title\\': \\'Weather in San Francisco\\', \\'url\\': \\'https://www.weatherapi.com/\\', \\'content\\': \"{\\'location\\': {\\'name\\': \\'San Francisco\\', \\'region\\': \\'California\\', \\'country\\': \\'United States of America\\', \\'lat\\': 37.775, \\'lon\\': -122.4183, \\'tz_id\\': \\'America/Los_Angeles\\', \\'localtime_epoch\\': 1751893248, \\'localtime\\': \\'2025-07-07 06:00\\'}, \\'current\\': {\\'last_updated_epoch\\': 1751893200, \\'last_updated\\': \\'2025-07-07 06:00\\', \\'temp_c\\': 13.3, \\'temp_f\\': 55.9, \\'is_day\\': 1, \\'condition\\': {\\'text\\': \\'Partly cloudy\\', \\'icon\\': \\'//cdn.weatherapi.com/weather/64x64/day/116.png\\', \\'code\\': 1003}, \\'wind_mph\\': 5.6, \\'wind_kph\\': 9.0, \\'wind_degree\\': 223, \\'wind_dir\\': \\'SW\\', \\'pressure_mb\\': 1013.0, \\'pressure_in\\': 29.91, \\'precip_mm\\': 0.0, \\'precip_in\\': 0.0, \\'humidity\\': 90, \\'cloud\\': 75, \\'feelslike_c\\': 12.7, \\'feelslike_f\\': 54.9, \\'windchill_c\\': 10.7, \\'windchill_f\\': 51.3, \\'heatindex_c\\': 11.8, \\'heatindex_f\\': 53.2, \\'dewpoint_c\\': 11.4, \\'dewpoint_f\\': 52.5, \\'vis_km\\': 16.0, \\'vis_miles\\': 9.0, \\'uv\\': 0.0, \\'gust_mph\\': 9.0, \\'gust_kph\\': 14.5}}\", \\'score\\': 0.9929002, \\'raw_content\\': None}, {\\'url\\': \\'https://weathershogun.com/weather/usa/ca/san-francisco/480/july/2025-07-07\\', \\'title\\': \\'Monday, July 7, 2025. San Francisco, CA - Weather Forecast\\', \\'content\\': \"Monday, July 7, 2025. San Francisco, CA - Weather Forecast  San Francisco, CA Image 1: WeatherShogun.com HomeContactBrowse StatesPrivacy PolicyTerms and Conditions °F)°C) TodayTomorrowHourly7 days30 daysJuly San Francisco, California Weather:  Monday, July 7, 2025 Day 64° Night 59° Precipitation 0 % Wind 12 mph UV Index (0 - 11+)10 Tuesday *   Hourly *   Today *   Tomorrow *   7 days *   30 days Weather Forecast History Last Year\\'s Weather on This Day (July 7, 2024) ### Day 66° ### Night 57° Please note that while we strive for accuracy, the information provided may not always be correct. Use at your own risk. © Copyright by WeatherShogun.com\", \\'score\\': 0.9475027, \\'raw_content\\': None}], \\'response_time\\': 0.93}', name='tavily_search', tool_call_id='82bf7b1f-8be8-4449-aab9-9d8cf3417d86'),\n",
       "  AIMessage(content='The weather in San Francisco is partly cloudy with a temperature of 55.9°F. The wind is blowing from the southwest at 5.6 mph. The high for today is expected to be 64°F and the low is 59°F, with a 0% chance of precipitation.', additional_kwargs={}, response_metadata={'prompt_feedback': {'block_reason': 0, 'safety_ratings': []}, 'finish_reason': 'STOP', 'model_name': 'gemini-2.5-pro', 'safety_ratings': []}, id='run--ea0dbe28-e53c-44fc-b7c2-879edbc45826-0', usage_metadata={'input_tokens': 1552, 'output_tokens': 66, 'total_tokens': 2179, 'input_token_details': {'cache_read': 0}, 'output_token_details': {'reasoning': 561}})]}"
      ]
     },
     "execution_count": 12,
     "metadata": {},
     "output_type": "execute_result"
    }
   ],
   "source": [
    "result"
   ]
  },
  {
   "cell_type": "code",
   "execution_count": 13,
   "id": "50702b06",
   "metadata": {},
   "outputs": [
    {
     "data": {
      "text/plain": [
       "'The weather in San Francisco is partly cloudy with a temperature of 55.9°F. The wind is blowing from the southwest at 5.6 mph. The high for today is expected to be 64°F and the low is 59°F, with a 0% chance of precipitation.'"
      ]
     },
     "execution_count": 13,
     "metadata": {},
     "output_type": "execute_result"
    }
   ],
   "source": [
    "result['messages'][-1].content"
   ]
  },
  {
   "cell_type": "code",
   "execution_count": 14,
   "id": "b828ced8",
   "metadata": {},
   "outputs": [
    {
     "name": "stdout",
     "output_type": "stream",
     "text": [
      "Calling: {'name': 'tavily_search', 'args': {'query': 'weather in San Francisco'}, 'id': '6fc55fa1-a831-4f75-89f2-9294e9090381', 'type': 'tool_call'}\n",
      "Calling: {'name': 'tavily_search', 'args': {'query': 'weather in Los Angeles'}, 'id': 'cb5610d2-339d-4d9b-9e50-54b1a0100f26', 'type': 'tool_call'}\n",
      "Back to the model!\n"
     ]
    }
   ],
   "source": [
    "messages = [HumanMessage(content=\"What is the weather in SF and LA?\")]\n",
    "result = abot.graph.invoke({\"messages\": messages})"
   ]
  },
  {
   "cell_type": "code",
   "execution_count": 15,
   "id": "bf9d886e",
   "metadata": {},
   "outputs": [
    {
     "data": {
      "text/plain": [
       "'The weather in San Francisco is currently 55.9°F and partly cloudy. The forecast for today is a high of 64°F and a low of 59°F.\\n\\nIn Los Angeles, it is currently 64.0°F and overcast. The forecast for today is a high of 84°F and a low of 61°F.'"
      ]
     },
     "execution_count": 15,
     "metadata": {},
     "output_type": "execute_result"
    }
   ],
   "source": [
    "result['messages'][-1].content"
   ]
  }
 ],
 "metadata": {
  "kernelspec": {
   "display_name": ".venv",
   "language": "python",
   "name": "python3"
  },
  "language_info": {
   "codemirror_mode": {
    "name": "ipython",
    "version": 3
   },
   "file_extension": ".py",
   "mimetype": "text/x-python",
   "name": "python",
   "nbconvert_exporter": "python",
   "pygments_lexer": "ipython3",
   "version": "3.13.5"
  }
 },
 "nbformat": 4,
 "nbformat_minor": 5
}
